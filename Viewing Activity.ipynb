{
 "cells": [
  {
   "cell_type": "code",
   "execution_count": 1,
   "id": "f725a8ee",
   "metadata": {
    "ExecuteTime": {
     "end_time": "2023-12-26T18:23:59.679389Z",
     "start_time": "2023-12-26T18:23:57.719451Z"
    }
   },
   "outputs": [],
   "source": [
    "import pandas as pd\n",
    "from pandas.core.reshape.pivot import pivot_table\n",
    "import numpy as np\n",
    "%matplotlib inline\n",
    "import matplotlib\n",
    "import matplotlib.pyplot as plt\n",
    "import matplotlib.dates as mdates"
   ]
  },
  {
   "cell_type": "code",
   "execution_count": 2,
   "id": "b019c804",
   "metadata": {
    "ExecuteTime": {
     "end_time": "2023-12-26T18:24:09.492302Z",
     "start_time": "2023-12-26T18:24:09.373901Z"
    },
    "scrolled": true
   },
   "outputs": [
    {
     "data": {
      "text/html": [
       "<div>\n",
       "<style scoped>\n",
       "    .dataframe tbody tr th:only-of-type {\n",
       "        vertical-align: middle;\n",
       "    }\n",
       "\n",
       "    .dataframe tbody tr th {\n",
       "        vertical-align: top;\n",
       "    }\n",
       "\n",
       "    .dataframe thead th {\n",
       "        text-align: right;\n",
       "    }\n",
       "</style>\n",
       "<table border=\"1\" class=\"dataframe\">\n",
       "  <thead>\n",
       "    <tr style=\"text-align: right;\">\n",
       "      <th></th>\n",
       "      <th>Profile Name</th>\n",
       "      <th>Start Time</th>\n",
       "      <th>Duration</th>\n",
       "      <th>Attributes</th>\n",
       "      <th>Title</th>\n",
       "      <th>Supplemental Video Type</th>\n",
       "      <th>Device Type</th>\n",
       "      <th>Bookmark</th>\n",
       "      <th>Latest Bookmark</th>\n",
       "      <th>Country</th>\n",
       "    </tr>\n",
       "  </thead>\n",
       "  <tbody>\n",
       "    <tr>\n",
       "      <th>0</th>\n",
       "      <td>Alex</td>\n",
       "      <td>2023-11-29 19:03:51</td>\n",
       "      <td>01:06:03</td>\n",
       "      <td>NaN</td>\n",
       "      <td>Best. Christmas. Ever!</td>\n",
       "      <td>NaN</td>\n",
       "      <td>Netflix Chrome MAC (Cadmium) HTML 5</td>\n",
       "      <td>01:06:03</td>\n",
       "      <td>01:06:03</td>\n",
       "      <td>GB (United Kingdom)</td>\n",
       "    </tr>\n",
       "    <tr>\n",
       "      <th>1</th>\n",
       "      <td>Alex</td>\n",
       "      <td>2023-11-29 18:40:52</td>\n",
       "      <td>00:00:04</td>\n",
       "      <td>Autoplayed: user action: None;</td>\n",
       "      <td>Cliffhanger Clip: Best. Christmas. Ever!</td>\n",
       "      <td>HOOK</td>\n",
       "      <td>Netflix Chrome MAC (Cadmium) HTML 5</td>\n",
       "      <td>00:00:04</td>\n",
       "      <td>00:00:04</td>\n",
       "      <td>GB (United Kingdom)</td>\n",
       "    </tr>\n",
       "    <tr>\n",
       "      <th>2</th>\n",
       "      <td>Alex</td>\n",
       "      <td>2023-11-29 18:40:46</td>\n",
       "      <td>00:00:04</td>\n",
       "      <td>Autoplayed: user action: None;</td>\n",
       "      <td>Cliffhanger Clip: Best. Christmas. Ever!</td>\n",
       "      <td>HOOK</td>\n",
       "      <td>Netflix Chrome MAC (Cadmium) HTML 5</td>\n",
       "      <td>00:00:04</td>\n",
       "      <td>Not latest view</td>\n",
       "      <td>GB (United Kingdom)</td>\n",
       "    </tr>\n",
       "    <tr>\n",
       "      <th>3</th>\n",
       "      <td>Alex</td>\n",
       "      <td>2023-11-29 16:35:12</td>\n",
       "      <td>00:00:04</td>\n",
       "      <td>NaN</td>\n",
       "      <td>The Crown: Season 5: Decommissioned (Episode 10)</td>\n",
       "      <td>NaN</td>\n",
       "      <td>Netflix Chrome MAC (Cadmium) HTML 5</td>\n",
       "      <td>00:31:14</td>\n",
       "      <td>00:31:14</td>\n",
       "      <td>GB (United Kingdom)</td>\n",
       "    </tr>\n",
       "    <tr>\n",
       "      <th>4</th>\n",
       "      <td>Alex</td>\n",
       "      <td>2023-11-29 16:35:00</td>\n",
       "      <td>00:00:06</td>\n",
       "      <td>Autoplayed: user action: None;</td>\n",
       "      <td>Season 6 Part 1 Inciting Incident Clip: The Crown</td>\n",
       "      <td>HOOK</td>\n",
       "      <td>Netflix Chrome MAC (Cadmium) HTML 5</td>\n",
       "      <td>00:00:06</td>\n",
       "      <td>00:00:06</td>\n",
       "      <td>GB (United Kingdom)</td>\n",
       "    </tr>\n",
       "    <tr>\n",
       "      <th>5</th>\n",
       "      <td>Alex</td>\n",
       "      <td>2023-11-03 02:24:00</td>\n",
       "      <td>00:19:45</td>\n",
       "      <td>Autoplayed: user action: None;</td>\n",
       "      <td>Friends: Season 6: The One After Vegas (Episod...</td>\n",
       "      <td>NaN</td>\n",
       "      <td>Safari MAC (Cadmium)</td>\n",
       "      <td>00:19:46</td>\n",
       "      <td>00:19:46</td>\n",
       "      <td>LU (Luxembourg)</td>\n",
       "    </tr>\n",
       "    <tr>\n",
       "      <th>6</th>\n",
       "      <td>Alex</td>\n",
       "      <td>2023-11-03 02:03:19</td>\n",
       "      <td>00:20:40</td>\n",
       "      <td>NaN</td>\n",
       "      <td>Friends: Season 5: The One in Vegas: Part 2 (E...</td>\n",
       "      <td>NaN</td>\n",
       "      <td>Safari MAC (Cadmium)</td>\n",
       "      <td>00:21:37</td>\n",
       "      <td>00:21:37</td>\n",
       "      <td>LU (Luxembourg)</td>\n",
       "    </tr>\n",
       "    <tr>\n",
       "      <th>7</th>\n",
       "      <td>Alex</td>\n",
       "      <td>2023-11-03 01:41:11</td>\n",
       "      <td>00:22:06</td>\n",
       "      <td>NaN</td>\n",
       "      <td>Friends: Season 5: The One in Vegas: Part 1 (E...</td>\n",
       "      <td>NaN</td>\n",
       "      <td>Safari MAC (Cadmium)</td>\n",
       "      <td>00:22:07</td>\n",
       "      <td>00:22:07</td>\n",
       "      <td>LU (Luxembourg)</td>\n",
       "    </tr>\n",
       "    <tr>\n",
       "      <th>8</th>\n",
       "      <td>Alex</td>\n",
       "      <td>2023-11-03 01:19:06</td>\n",
       "      <td>00:22:03</td>\n",
       "      <td>NaN</td>\n",
       "      <td>Friends: Season 5: The One with Joey's Big Bre...</td>\n",
       "      <td>NaN</td>\n",
       "      <td>Safari MAC (Cadmium)</td>\n",
       "      <td>00:22:03</td>\n",
       "      <td>00:22:03</td>\n",
       "      <td>LU (Luxembourg)</td>\n",
       "    </tr>\n",
       "    <tr>\n",
       "      <th>9</th>\n",
       "      <td>Alex</td>\n",
       "      <td>2023-11-03 01:02:58</td>\n",
       "      <td>00:16:05</td>\n",
       "      <td>NaN</td>\n",
       "      <td>Friends: Season 5: The One with the Ball (Epis...</td>\n",
       "      <td>NaN</td>\n",
       "      <td>Safari MAC (Cadmium)</td>\n",
       "      <td>00:22:06</td>\n",
       "      <td>00:22:06</td>\n",
       "      <td>LU (Luxembourg)</td>\n",
       "    </tr>\n",
       "  </tbody>\n",
       "</table>\n",
       "</div>"
      ],
      "text/plain": [
       "  Profile Name           Start Time  Duration  \\\n",
       "0         Alex  2023-11-29 19:03:51  01:06:03   \n",
       "1         Alex  2023-11-29 18:40:52  00:00:04   \n",
       "2         Alex  2023-11-29 18:40:46  00:00:04   \n",
       "3         Alex  2023-11-29 16:35:12  00:00:04   \n",
       "4         Alex  2023-11-29 16:35:00  00:00:06   \n",
       "5         Alex  2023-11-03 02:24:00  00:19:45   \n",
       "6         Alex  2023-11-03 02:03:19  00:20:40   \n",
       "7         Alex  2023-11-03 01:41:11  00:22:06   \n",
       "8         Alex  2023-11-03 01:19:06  00:22:03   \n",
       "9         Alex  2023-11-03 01:02:58  00:16:05   \n",
       "\n",
       "                        Attributes  \\\n",
       "0                              NaN   \n",
       "1  Autoplayed: user action: None;    \n",
       "2  Autoplayed: user action: None;    \n",
       "3                              NaN   \n",
       "4  Autoplayed: user action: None;    \n",
       "5  Autoplayed: user action: None;    \n",
       "6                              NaN   \n",
       "7                              NaN   \n",
       "8                              NaN   \n",
       "9                              NaN   \n",
       "\n",
       "                                               Title Supplemental Video Type  \\\n",
       "0                             Best. Christmas. Ever!                     NaN   \n",
       "1           Cliffhanger Clip: Best. Christmas. Ever!                    HOOK   \n",
       "2           Cliffhanger Clip: Best. Christmas. Ever!                    HOOK   \n",
       "3   The Crown: Season 5: Decommissioned (Episode 10)                     NaN   \n",
       "4  Season 6 Part 1 Inciting Incident Clip: The Crown                    HOOK   \n",
       "5  Friends: Season 6: The One After Vegas (Episod...                     NaN   \n",
       "6  Friends: Season 5: The One in Vegas: Part 2 (E...                     NaN   \n",
       "7  Friends: Season 5: The One in Vegas: Part 1 (E...                     NaN   \n",
       "8  Friends: Season 5: The One with Joey's Big Bre...                     NaN   \n",
       "9  Friends: Season 5: The One with the Ball (Epis...                     NaN   \n",
       "\n",
       "                           Device Type  Bookmark  Latest Bookmark  \\\n",
       "0  Netflix Chrome MAC (Cadmium) HTML 5  01:06:03         01:06:03   \n",
       "1  Netflix Chrome MAC (Cadmium) HTML 5  00:00:04         00:00:04   \n",
       "2  Netflix Chrome MAC (Cadmium) HTML 5  00:00:04  Not latest view   \n",
       "3  Netflix Chrome MAC (Cadmium) HTML 5  00:31:14         00:31:14   \n",
       "4  Netflix Chrome MAC (Cadmium) HTML 5  00:00:06         00:00:06   \n",
       "5                 Safari MAC (Cadmium)  00:19:46         00:19:46   \n",
       "6                 Safari MAC (Cadmium)  00:21:37         00:21:37   \n",
       "7                 Safari MAC (Cadmium)  00:22:07         00:22:07   \n",
       "8                 Safari MAC (Cadmium)  00:22:03         00:22:03   \n",
       "9                 Safari MAC (Cadmium)  00:22:06         00:22:06   \n",
       "\n",
       "               Country  \n",
       "0  GB (United Kingdom)  \n",
       "1  GB (United Kingdom)  \n",
       "2  GB (United Kingdom)  \n",
       "3  GB (United Kingdom)  \n",
       "4  GB (United Kingdom)  \n",
       "5      LU (Luxembourg)  \n",
       "6      LU (Luxembourg)  \n",
       "7      LU (Luxembourg)  \n",
       "8      LU (Luxembourg)  \n",
       "9      LU (Luxembourg)  "
      ]
     },
     "execution_count": 2,
     "metadata": {},
     "output_type": "execute_result"
    }
   ],
   "source": [
    "df = pd.read_csv('ViewingActivity.csv')\n",
    "df.head(10)"
   ]
  },
  {
   "cell_type": "code",
   "execution_count": 3,
   "id": "f0b2e818",
   "metadata": {
    "ExecuteTime": {
     "end_time": "2023-12-26T18:24:35.217243Z",
     "start_time": "2023-12-26T18:24:35.213339Z"
    }
   },
   "outputs": [],
   "source": [
    "# Data Exploration"
   ]
  },
  {
   "cell_type": "code",
   "execution_count": 4,
   "id": "05e3ef7d",
   "metadata": {
    "ExecuteTime": {
     "end_time": "2023-12-26T18:24:37.042675Z",
     "start_time": "2023-12-26T18:24:37.036597Z"
    }
   },
   "outputs": [
    {
     "data": {
      "text/plain": [
       "(24996, 10)"
      ]
     },
     "execution_count": 4,
     "metadata": {},
     "output_type": "execute_result"
    }
   ],
   "source": [
    "df.shape"
   ]
  },
  {
   "cell_type": "code",
   "execution_count": 5,
   "id": "ebb6d3fc",
   "metadata": {
    "ExecuteTime": {
     "end_time": "2023-12-26T18:24:39.745113Z",
     "start_time": "2023-12-26T18:24:39.723590Z"
    }
   },
   "outputs": [
    {
     "data": {
      "text/html": [
       "<div>\n",
       "<style scoped>\n",
       "    .dataframe tbody tr th:only-of-type {\n",
       "        vertical-align: middle;\n",
       "    }\n",
       "\n",
       "    .dataframe tbody tr th {\n",
       "        vertical-align: top;\n",
       "    }\n",
       "\n",
       "    .dataframe thead th {\n",
       "        text-align: right;\n",
       "    }\n",
       "</style>\n",
       "<table border=\"1\" class=\"dataframe\">\n",
       "  <thead>\n",
       "    <tr style=\"text-align: right;\">\n",
       "      <th></th>\n",
       "      <th>Profile Name</th>\n",
       "      <th>Start Time</th>\n",
       "      <th>Duration</th>\n",
       "      <th>Attributes</th>\n",
       "      <th>Title</th>\n",
       "      <th>Supplemental Video Type</th>\n",
       "      <th>Device Type</th>\n",
       "      <th>Bookmark</th>\n",
       "      <th>Latest Bookmark</th>\n",
       "      <th>Country</th>\n",
       "    </tr>\n",
       "  </thead>\n",
       "  <tbody>\n",
       "    <tr>\n",
       "      <th>4170</th>\n",
       "      <td>Alex</td>\n",
       "      <td>2018-03-12 23:46:50</td>\n",
       "      <td>00:00:05</td>\n",
       "      <td>NaN</td>\n",
       "      <td>Queer Eye: Season 1: The Renaissance of Reming...</td>\n",
       "      <td>NaN</td>\n",
       "      <td>Netflix Chrome MAC (Cadmium) HTML 5</td>\n",
       "      <td>00:27:13</td>\n",
       "      <td>Not latest view</td>\n",
       "      <td>LU (Luxembourg)</td>\n",
       "    </tr>\n",
       "    <tr>\n",
       "      <th>1151</th>\n",
       "      <td>Alex</td>\n",
       "      <td>2020-07-19 23:56:57</td>\n",
       "      <td>00:32:01</td>\n",
       "      <td>NaN</td>\n",
       "      <td>Indian Matchmaking: Season 1: Just Find Me Som...</td>\n",
       "      <td>NaN</td>\n",
       "      <td>Netflix Chrome MAC (Cadmium) HTML 5</td>\n",
       "      <td>00:32:01</td>\n",
       "      <td>00:32:01</td>\n",
       "      <td>GB (United Kingdom)</td>\n",
       "    </tr>\n",
       "    <tr>\n",
       "      <th>24866</th>\n",
       "      <td>Ποπη</td>\n",
       "      <td>2019-09-26 13:30:55</td>\n",
       "      <td>00:24:30</td>\n",
       "      <td>NaN</td>\n",
       "      <td>Μαγική Άβυσσος: Σεζόν 1: Επεισόδιο 2 (Επεισόδι...</td>\n",
       "      <td>NaN</td>\n",
       "      <td>Android DefaultWidevineL3Tablet Android Tablet</td>\n",
       "      <td>00:42:17</td>\n",
       "      <td>Not latest view</td>\n",
       "      <td>GR (Greece)</td>\n",
       "    </tr>\n",
       "    <tr>\n",
       "      <th>15626</th>\n",
       "      <td>Savvas</td>\n",
       "      <td>2017-05-23 19:48:32</td>\n",
       "      <td>00:19:01</td>\n",
       "      <td>NaN</td>\n",
       "      <td>The Big Bang Theory: Season 2: The Dead Hooker...</td>\n",
       "      <td>NaN</td>\n",
       "      <td>Netflix Chrome MAC (Cadmium) HTML 5</td>\n",
       "      <td>00:19:10</td>\n",
       "      <td>Not latest view</td>\n",
       "      <td>FR (France)</td>\n",
       "    </tr>\n",
       "    <tr>\n",
       "      <th>9138</th>\n",
       "      <td>Savvas</td>\n",
       "      <td>2022-12-03 01:56:14</td>\n",
       "      <td>00:00:54</td>\n",
       "      <td>NaN</td>\n",
       "      <td>The Office (U.S.): Season 5: Michael Scott Pap...</td>\n",
       "      <td>NaN</td>\n",
       "      <td>Netflix Chrome MAC (Cadmium) HTML 5</td>\n",
       "      <td>00:12:15</td>\n",
       "      <td>Not latest view</td>\n",
       "      <td>LU (Luxembourg)</td>\n",
       "    </tr>\n",
       "    <tr>\n",
       "      <th>22515</th>\n",
       "      <td>Ποπη</td>\n",
       "      <td>2021-07-28 11:45:36</td>\n",
       "      <td>00:14:55</td>\n",
       "      <td>NaN</td>\n",
       "      <td>Ματωμένος Ουρανός</td>\n",
       "      <td>NaN</td>\n",
       "      <td>Android DefaultWidevineL3Tablet Android Tablet</td>\n",
       "      <td>01:53:51</td>\n",
       "      <td>01:53:51</td>\n",
       "      <td>GR (Greece)</td>\n",
       "    </tr>\n",
       "    <tr>\n",
       "      <th>4504</th>\n",
       "      <td>Alex</td>\n",
       "      <td>2018-01-16 01:01:32</td>\n",
       "      <td>00:22:07</td>\n",
       "      <td>Autoplayed: user action: None;</td>\n",
       "      <td>Friends: Season 5: The One with All the Thanks...</td>\n",
       "      <td>NaN</td>\n",
       "      <td>Netflix Chrome MAC (Cadmium) HTML 5</td>\n",
       "      <td>00:22:08</td>\n",
       "      <td>Not latest view</td>\n",
       "      <td>LU (Luxembourg)</td>\n",
       "    </tr>\n",
       "    <tr>\n",
       "      <th>24795</th>\n",
       "      <td>Ποπη</td>\n",
       "      <td>2019-11-02 13:09:07</td>\n",
       "      <td>00:41:29</td>\n",
       "      <td>NaN</td>\n",
       "      <td>Ρίβερντεϊλ: Σεζόν 3: Κεφάλαιο τριάντα επτά: Υπ...</td>\n",
       "      <td>NaN</td>\n",
       "      <td>Android DefaultWidevineL3Tablet Android Tablet</td>\n",
       "      <td>00:42:08</td>\n",
       "      <td>00:42:08</td>\n",
       "      <td>GR (Greece)</td>\n",
       "    </tr>\n",
       "    <tr>\n",
       "      <th>4509</th>\n",
       "      <td>Alex</td>\n",
       "      <td>2018-01-16 00:38:09</td>\n",
       "      <td>00:00:16</td>\n",
       "      <td>NaN</td>\n",
       "      <td>Friends: Season 6: The One with the Ring (Epis...</td>\n",
       "      <td>NaN</td>\n",
       "      <td>Netflix Chrome MAC (Cadmium) HTML 5</td>\n",
       "      <td>00:00:16</td>\n",
       "      <td>Not latest view</td>\n",
       "      <td>LU (Luxembourg)</td>\n",
       "    </tr>\n",
       "    <tr>\n",
       "      <th>10201</th>\n",
       "      <td>Savvas</td>\n",
       "      <td>2022-01-30 01:16:33</td>\n",
       "      <td>00:04:18</td>\n",
       "      <td>NaN</td>\n",
       "      <td>The Office (U.S.): Season 9: Suit Warehouse (E...</td>\n",
       "      <td>NaN</td>\n",
       "      <td>Netflix Chrome MAC (Cadmium) HTML 5</td>\n",
       "      <td>00:21:38</td>\n",
       "      <td>Not latest view</td>\n",
       "      <td>FR (France)</td>\n",
       "    </tr>\n",
       "  </tbody>\n",
       "</table>\n",
       "</div>"
      ],
      "text/plain": [
       "      Profile Name           Start Time  Duration  \\\n",
       "4170          Alex  2018-03-12 23:46:50  00:00:05   \n",
       "1151          Alex  2020-07-19 23:56:57  00:32:01   \n",
       "24866         Ποπη  2019-09-26 13:30:55  00:24:30   \n",
       "15626       Savvas  2017-05-23 19:48:32  00:19:01   \n",
       "9138        Savvas  2022-12-03 01:56:14  00:00:54   \n",
       "22515         Ποπη  2021-07-28 11:45:36  00:14:55   \n",
       "4504          Alex  2018-01-16 01:01:32  00:22:07   \n",
       "24795         Ποπη  2019-11-02 13:09:07  00:41:29   \n",
       "4509          Alex  2018-01-16 00:38:09  00:00:16   \n",
       "10201       Savvas  2022-01-30 01:16:33  00:04:18   \n",
       "\n",
       "                            Attributes  \\\n",
       "4170                               NaN   \n",
       "1151                               NaN   \n",
       "24866                              NaN   \n",
       "15626                              NaN   \n",
       "9138                               NaN   \n",
       "22515                              NaN   \n",
       "4504   Autoplayed: user action: None;    \n",
       "24795                              NaN   \n",
       "4509                               NaN   \n",
       "10201                              NaN   \n",
       "\n",
       "                                                   Title  \\\n",
       "4170   Queer Eye: Season 1: The Renaissance of Reming...   \n",
       "1151   Indian Matchmaking: Season 1: Just Find Me Som...   \n",
       "24866  Μαγική Άβυσσος: Σεζόν 1: Επεισόδιο 2 (Επεισόδι...   \n",
       "15626  The Big Bang Theory: Season 2: The Dead Hooker...   \n",
       "9138   The Office (U.S.): Season 5: Michael Scott Pap...   \n",
       "22515                                  Ματωμένος Ουρανός   \n",
       "4504   Friends: Season 5: The One with All the Thanks...   \n",
       "24795  Ρίβερντεϊλ: Σεζόν 3: Κεφάλαιο τριάντα επτά: Υπ...   \n",
       "4509   Friends: Season 6: The One with the Ring (Epis...   \n",
       "10201  The Office (U.S.): Season 9: Suit Warehouse (E...   \n",
       "\n",
       "      Supplemental Video Type                                     Device Type  \\\n",
       "4170                      NaN             Netflix Chrome MAC (Cadmium) HTML 5   \n",
       "1151                      NaN             Netflix Chrome MAC (Cadmium) HTML 5   \n",
       "24866                     NaN  Android DefaultWidevineL3Tablet Android Tablet   \n",
       "15626                     NaN             Netflix Chrome MAC (Cadmium) HTML 5   \n",
       "9138                      NaN             Netflix Chrome MAC (Cadmium) HTML 5   \n",
       "22515                     NaN  Android DefaultWidevineL3Tablet Android Tablet   \n",
       "4504                      NaN             Netflix Chrome MAC (Cadmium) HTML 5   \n",
       "24795                     NaN  Android DefaultWidevineL3Tablet Android Tablet   \n",
       "4509                      NaN             Netflix Chrome MAC (Cadmium) HTML 5   \n",
       "10201                     NaN             Netflix Chrome MAC (Cadmium) HTML 5   \n",
       "\n",
       "       Bookmark  Latest Bookmark              Country  \n",
       "4170   00:27:13  Not latest view      LU (Luxembourg)  \n",
       "1151   00:32:01         00:32:01  GB (United Kingdom)  \n",
       "24866  00:42:17  Not latest view          GR (Greece)  \n",
       "15626  00:19:10  Not latest view          FR (France)  \n",
       "9138   00:12:15  Not latest view      LU (Luxembourg)  \n",
       "22515  01:53:51         01:53:51          GR (Greece)  \n",
       "4504   00:22:08  Not latest view      LU (Luxembourg)  \n",
       "24795  00:42:08         00:42:08          GR (Greece)  \n",
       "4509   00:00:16  Not latest view      LU (Luxembourg)  \n",
       "10201  00:21:38  Not latest view          FR (France)  "
      ]
     },
     "execution_count": 5,
     "metadata": {},
     "output_type": "execute_result"
    }
   ],
   "source": [
    "df.sample(10)"
   ]
  },
  {
   "cell_type": "code",
   "execution_count": 6,
   "id": "c99b04ab",
   "metadata": {
    "ExecuteTime": {
     "end_time": "2023-12-26T18:24:42.768683Z",
     "start_time": "2023-12-26T18:24:42.755256Z"
    }
   },
   "outputs": [
    {
     "data": {
      "text/plain": [
       "array(['Alex', 'Kids', 'Savvas', 'mutter', 'Ποπη'], dtype=object)"
      ]
     },
     "execution_count": 6,
     "metadata": {},
     "output_type": "execute_result"
    }
   ],
   "source": [
    "df[\"Profile Name\"].unique()"
   ]
  },
  {
   "cell_type": "code",
   "execution_count": 7,
   "id": "ff6db287",
   "metadata": {
    "ExecuteTime": {
     "end_time": "2023-12-26T18:24:43.655127Z",
     "start_time": "2023-12-26T18:24:43.646279Z"
    }
   },
   "outputs": [
    {
     "data": {
      "text/plain": [
       "array(['Netflix Chrome MAC (Cadmium) HTML 5', 'Safari MAC (Cadmium)',\n",
       "       'Apple iPhone XR',\n",
       "       'Android DefaultWidevineL3Tablet Android Tablet',\n",
       "       'Samsung CE 2020 Nike-M UHD TV Smart TV', 'Chrome PC (Cadmium)',\n",
       "       'Edge OSS - Windows (Cadmium)',\n",
       "       'Samsung CE 2021 Kant-S2e UHD TV  Smart TV',\n",
       "       'Google Chromecast V3 Streaming Stick',\n",
       "       'Netflix Oculus VR Android Phone', 'Sony PS4', 'Apple iPhone 6',\n",
       "       'Apple iPad 6th Gen 9.7 (Wi-Fi) iPad', 'Apple iPhone 13',\n",
       "       'LG 2019 RTK K5Lp Standard UHD TV Smart TV',\n",
       "       'Netflix Windows App - Cadmium Windows Mobile',\n",
       "       'Samsung 2013 MStar X12 Smart TV', 'Apple iPhone 6s',\n",
       "       'iPad Mini 2 WiFi', 'iPhone 5C Global',\n",
       "       'Apple iPad 10.2 inch 8th Gen Wi-Fi iPad',\n",
       "       'Samsung CE 2019 Muse-L HotelTV Smart TV', 'Apple iPad mini',\n",
       "       'Samsung CE 2022 Kant-SU2e \\n Smart TV',\n",
       "       'Amazon Fire TV Stick 2020 + Streaming Stick', 'Mobile'],\n",
       "      dtype=object)"
      ]
     },
     "execution_count": 7,
     "metadata": {},
     "output_type": "execute_result"
    }
   ],
   "source": [
    "df[\"Device Type\"].unique()"
   ]
  },
  {
   "cell_type": "code",
   "execution_count": 8,
   "id": "b28f248f",
   "metadata": {
    "ExecuteTime": {
     "end_time": "2023-12-26T18:24:45.256682Z",
     "start_time": "2023-12-26T18:24:45.251195Z"
    }
   },
   "outputs": [
    {
     "data": {
      "text/plain": [
       "['Profile Name',\n",
       " 'Start Time',\n",
       " 'Duration',\n",
       " 'Attributes',\n",
       " 'Title',\n",
       " 'Supplemental Video Type',\n",
       " 'Device Type',\n",
       " 'Bookmark',\n",
       " 'Latest Bookmark',\n",
       " 'Country']"
      ]
     },
     "execution_count": 8,
     "metadata": {},
     "output_type": "execute_result"
    }
   ],
   "source": [
    "df.columns.tolist()"
   ]
  },
  {
   "cell_type": "code",
   "execution_count": 9,
   "id": "03bb09e4",
   "metadata": {
    "ExecuteTime": {
     "end_time": "2023-12-26T18:24:47.294212Z",
     "start_time": "2023-12-26T18:24:47.262141Z"
    }
   },
   "outputs": [
    {
     "name": "stdout",
     "output_type": "stream",
     "text": [
      "<class 'pandas.core.frame.DataFrame'>\n",
      "RangeIndex: 24996 entries, 0 to 24995\n",
      "Data columns (total 10 columns):\n",
      " #   Column                   Non-Null Count  Dtype \n",
      "---  ------                   --------------  ----- \n",
      " 0   Profile Name             24996 non-null  object\n",
      " 1   Start Time               24996 non-null  object\n",
      " 2   Duration                 24996 non-null  object\n",
      " 3   Attributes               7165 non-null   object\n",
      " 4   Title                    24996 non-null  object\n",
      " 5   Supplemental Video Type  1534 non-null   object\n",
      " 6   Device Type              24996 non-null  object\n",
      " 7   Bookmark                 24996 non-null  object\n",
      " 8   Latest Bookmark          24996 non-null  object\n",
      " 9   Country                  24996 non-null  object\n",
      "dtypes: object(10)\n",
      "memory usage: 1.9+ MB\n"
     ]
    }
   ],
   "source": [
    "df.info()"
   ]
  },
  {
   "cell_type": "code",
   "execution_count": 10,
   "id": "1d73bd59",
   "metadata": {
    "ExecuteTime": {
     "end_time": "2023-12-26T18:25:11.975145Z",
     "start_time": "2023-12-26T18:25:11.971452Z"
    }
   },
   "outputs": [],
   "source": [
    "# Date Conversions"
   ]
  },
  {
   "cell_type": "code",
   "execution_count": 11,
   "id": "47957807",
   "metadata": {
    "ExecuteTime": {
     "end_time": "2023-12-26T18:25:22.377224Z",
     "start_time": "2023-12-26T18:25:22.339992Z"
    }
   },
   "outputs": [],
   "source": [
    "df['Start Time'] = pd.to_datetime(df['Start Time'], utc=True)"
   ]
  },
  {
   "cell_type": "code",
   "execution_count": 12,
   "id": "30b922a0",
   "metadata": {
    "ExecuteTime": {
     "end_time": "2023-12-26T18:25:24.988557Z",
     "start_time": "2023-12-26T18:25:24.958425Z"
    }
   },
   "outputs": [],
   "source": [
    "df['Duration'] = pd.to_timedelta(df['Duration'])"
   ]
  },
  {
   "cell_type": "code",
   "execution_count": 13,
   "id": "f57d8ac9",
   "metadata": {
    "ExecuteTime": {
     "end_time": "2023-12-26T18:25:26.361428Z",
     "start_time": "2023-12-26T18:25:26.353990Z"
    }
   },
   "outputs": [
    {
     "data": {
      "text/plain": [
       "Profile Name                            object\n",
       "Start Time                 datetime64[ns, UTC]\n",
       "Duration                       timedelta64[ns]\n",
       "Attributes                              object\n",
       "Title                                   object\n",
       "Supplemental Video Type                 object\n",
       "Device Type                             object\n",
       "Bookmark                                object\n",
       "Latest Bookmark                         object\n",
       "Country                                 object\n",
       "dtype: object"
      ]
     },
     "execution_count": 13,
     "metadata": {},
     "output_type": "execute_result"
    }
   ],
   "source": [
    "df.dtypes"
   ]
  },
  {
   "cell_type": "code",
   "execution_count": 410,
   "id": "b9443c32",
   "metadata": {
    "ExecuteTime": {
     "end_time": "2023-12-19T08:50:45.668260Z",
     "start_time": "2023-12-19T08:50:45.658499Z"
    }
   },
   "outputs": [
    {
     "data": {
      "text/plain": [
       "Profile Name\n",
       "Savvas    11443\n",
       "Alex       7581\n",
       "Ποπη       3837\n",
       "mutter     2122\n",
       "Kids         13\n",
       "Name: count, dtype: int64"
      ]
     },
     "execution_count": 410,
     "metadata": {},
     "output_type": "execute_result"
    }
   ],
   "source": [
    "df['Profile Name'].value_counts()"
   ]
  },
  {
   "cell_type": "code",
   "execution_count": 411,
   "id": "23f355df",
   "metadata": {
    "ExecuteTime": {
     "end_time": "2023-12-19T08:50:45.870874Z",
     "start_time": "2023-12-19T08:50:45.847973Z"
    }
   },
   "outputs": [
    {
     "data": {
      "text/plain": [
       "Device Type\n",
       "Netflix Chrome MAC (Cadmium) HTML 5               12986\n",
       "Android DefaultWidevineL3Tablet Android Tablet     3687\n",
       "Chrome PC (Cadmium)                                2935\n",
       "Sony PS4                                           1715\n",
       "Samsung CE 2020 Nike-M UHD TV Smart TV             1424\n",
       "Safari MAC (Cadmium)                                835\n",
       "iPad Mini 2 WiFi                                    340\n",
       "Apple iPad 6th Gen 9.7 (Wi-Fi) iPad                 283\n",
       "LG 2019 RTK K5Lp Standard UHD TV Smart TV           203\n",
       "Apple iPad 10.2 inch 8th Gen Wi-Fi iPad              99\n",
       "Apple iPhone XR                                      96\n",
       "Apple iPhone 6                                       83\n",
       "Mobile                                               78\n",
       "Samsung CE 2022 Kant-SU2e \\n Smart TV                70\n",
       "Apple iPhone 6s                                      40\n",
       "Edge OSS - Windows (Cadmium)                         35\n",
       "Samsung CE 2021 Kant-S2e UHD TV  Smart TV            30\n",
       "Samsung CE 2019 Muse-L HotelTV Smart TV              14\n",
       "Netflix Windows App - Cadmium Windows Mobile         13\n",
       "Apple iPhone 13                                      12\n",
       "Google Chromecast V3 Streaming Stick                  4\n",
       "Samsung 2013 MStar X12 Smart TV                       4\n",
       "Amazon Fire TV Stick 2020 + Streaming Stick           4\n",
       "iPhone 5C Global                                      3\n",
       "Apple iPad mini                                       2\n",
       "Netflix Oculus VR Android Phone                       1\n",
       "Name: count, dtype: int64"
      ]
     },
     "execution_count": 411,
     "metadata": {},
     "output_type": "execute_result"
    }
   ],
   "source": [
    "df['Device Type'].value_counts()"
   ]
  },
  {
   "cell_type": "code",
   "execution_count": 412,
   "id": "c582eb82",
   "metadata": {
    "ExecuteTime": {
     "end_time": "2023-12-19T08:50:46.326178Z",
     "start_time": "2023-12-19T08:50:46.045755Z"
    }
   },
   "outputs": [
    {
     "data": {
      "image/png": "[encoded data removed]",
      "text/plain": [
       "<Figure size 640x480 with 1 Axes>"
      ]
     },
     "metadata": {},
     "output_type": "display_data"
    }
   ],
   "source": [
    "df['Profile Name'].value_counts().plot(kind='bar')\n",
    "plt.show()"
   ]
  },
  {
   "cell_type": "code",
   "execution_count": 413,
   "id": "995658a0",
   "metadata": {
    "ExecuteTime": {
     "end_time": "2023-12-19T08:50:46.339432Z",
     "start_time": "2023-12-19T08:50:46.328972Z"
    }
   },
   "outputs": [
    {
     "data": {
      "text/plain": [
       "Timedelta('281 days 07:34:16')"
      ]
     },
     "execution_count": 413,
     "metadata": {},
     "output_type": "execute_result"
    }
   ],
   "source": [
    "df['Duration'].sum()"
   ]
  },
  {
   "cell_type": "code",
   "execution_count": 414,
   "id": "7b4037bc",
   "metadata": {
    "ExecuteTime": {
     "end_time": "2023-12-19T08:50:48.037484Z",
     "start_time": "2023-12-19T08:50:47.995974Z"
    }
   },
   "outputs": [
    {
     "data": {
      "text/html": [
       "<div>\n",
       "<style scoped>\n",
       "    .dataframe tbody tr th:only-of-type {\n",
       "        vertical-align: middle;\n",
       "    }\n",
       "\n",
       "    .dataframe tbody tr th {\n",
       "        vertical-align: top;\n",
       "    }\n",
       "\n",
       "    .dataframe thead th {\n",
       "        text-align: right;\n",
       "    }\n",
       "</style>\n",
       "<table border=\"1\" class=\"dataframe\">\n",
       "  <thead>\n",
       "    <tr style=\"text-align: right;\">\n",
       "      <th></th>\n",
       "      <th>Profile Name</th>\n",
       "      <th>Start Time</th>\n",
       "      <th>Duration</th>\n",
       "      <th>Attributes</th>\n",
       "      <th>Title</th>\n",
       "      <th>Supplemental Video Type</th>\n",
       "      <th>Device Type</th>\n",
       "      <th>Bookmark</th>\n",
       "      <th>Latest Bookmark</th>\n",
       "      <th>Country</th>\n",
       "    </tr>\n",
       "  </thead>\n",
       "  <tbody>\n",
       "    <tr>\n",
       "      <th>19036</th>\n",
       "      <td>Savvas</td>\n",
       "      <td>2015-02-15 22:48:52+00:00</td>\n",
       "      <td>0 days 00:18:35</td>\n",
       "      <td>NaN</td>\n",
       "      <td>Jersey Girl</td>\n",
       "      <td>NaN</td>\n",
       "      <td>Safari MAC (Cadmium)</td>\n",
       "      <td>00:18:35</td>\n",
       "      <td>00:18:35</td>\n",
       "      <td>LU (Luxembourg)</td>\n",
       "    </tr>\n",
       "    <tr>\n",
       "      <th>19035</th>\n",
       "      <td>Savvas</td>\n",
       "      <td>2015-02-17 18:31:02+00:00</td>\n",
       "      <td>0 days 00:01:20</td>\n",
       "      <td>NaN</td>\n",
       "      <td>Submarine</td>\n",
       "      <td>NaN</td>\n",
       "      <td>Sony PS4</td>\n",
       "      <td>00:01:17</td>\n",
       "      <td>00:01:17</td>\n",
       "      <td>FR (France)</td>\n",
       "    </tr>\n",
       "    <tr>\n",
       "      <th>19034</th>\n",
       "      <td>Savvas</td>\n",
       "      <td>2015-02-18 12:36:09+00:00</td>\n",
       "      <td>0 days 00:00:04</td>\n",
       "      <td>NaN</td>\n",
       "      <td>Arrested Development: Season 2: The One Where ...</td>\n",
       "      <td>NaN</td>\n",
       "      <td>Sony PS4</td>\n",
       "      <td>00:00:06</td>\n",
       "      <td>Not latest view</td>\n",
       "      <td>FR (France)</td>\n",
       "    </tr>\n",
       "    <tr>\n",
       "      <th>19033</th>\n",
       "      <td>Savvas</td>\n",
       "      <td>2015-02-18 12:36:23+00:00</td>\n",
       "      <td>0 days 00:31:25</td>\n",
       "      <td>NaN</td>\n",
       "      <td>Arrested Development: Season 4: Flight of the ...</td>\n",
       "      <td>NaN</td>\n",
       "      <td>Sony PS4</td>\n",
       "      <td>00:31:28</td>\n",
       "      <td>00:31:28</td>\n",
       "      <td>FR (France)</td>\n",
       "    </tr>\n",
       "    <tr>\n",
       "      <th>19032</th>\n",
       "      <td>Savvas</td>\n",
       "      <td>2015-02-18 19:39:19+00:00</td>\n",
       "      <td>0 days 00:18:06</td>\n",
       "      <td>NaN</td>\n",
       "      <td>Arrested Development: Season 4: Borderline Per...</td>\n",
       "      <td>NaN</td>\n",
       "      <td>Sony PS4</td>\n",
       "      <td>00:15:13</td>\n",
       "      <td>Not latest view</td>\n",
       "      <td>FR (France)</td>\n",
       "    </tr>\n",
       "    <tr>\n",
       "      <th>...</th>\n",
       "      <td>...</td>\n",
       "      <td>...</td>\n",
       "      <td>...</td>\n",
       "      <td>...</td>\n",
       "      <td>...</td>\n",
       "      <td>...</td>\n",
       "      <td>...</td>\n",
       "      <td>...</td>\n",
       "      <td>...</td>\n",
       "      <td>...</td>\n",
       "    </tr>\n",
       "    <tr>\n",
       "      <th>19041</th>\n",
       "      <td>mutter</td>\n",
       "      <td>2023-12-01 20:32:12+00:00</td>\n",
       "      <td>0 days 00:00:42</td>\n",
       "      <td>Autoplayed: user action: None;</td>\n",
       "      <td>Season 1 Cliffhanger Clip: Tapie</td>\n",
       "      <td>HOOK</td>\n",
       "      <td>Samsung CE 2020 Nike-M UHD TV Smart TV</td>\n",
       "      <td>00:00:42</td>\n",
       "      <td>00:00:42</td>\n",
       "      <td>LU (Luxembourg)</td>\n",
       "    </tr>\n",
       "    <tr>\n",
       "      <th>19040</th>\n",
       "      <td>mutter</td>\n",
       "      <td>2023-12-01 20:33:10+00:00</td>\n",
       "      <td>0 days 00:00:07</td>\n",
       "      <td>Autoplayed: user action: None;</td>\n",
       "      <td>Main Character Clip: The Killer</td>\n",
       "      <td>HOOK</td>\n",
       "      <td>Samsung CE 2020 Nike-M UHD TV Smart TV</td>\n",
       "      <td>00:00:07</td>\n",
       "      <td>00:00:07</td>\n",
       "      <td>LU (Luxembourg)</td>\n",
       "    </tr>\n",
       "    <tr>\n",
       "      <th>19039</th>\n",
       "      <td>mutter</td>\n",
       "      <td>2023-12-01 20:33:25+00:00</td>\n",
       "      <td>0 days 00:00:07</td>\n",
       "      <td>Autoplayed: user action: None;</td>\n",
       "      <td>Trailer: The Noel Diary</td>\n",
       "      <td>TRAILER</td>\n",
       "      <td>Samsung CE 2020 Nike-M UHD TV Smart TV</td>\n",
       "      <td>00:00:07</td>\n",
       "      <td>00:00:07</td>\n",
       "      <td>LU (Luxembourg)</td>\n",
       "    </tr>\n",
       "    <tr>\n",
       "      <th>19038</th>\n",
       "      <td>mutter</td>\n",
       "      <td>2023-12-01 20:33:49+00:00</td>\n",
       "      <td>0 days 00:00:04</td>\n",
       "      <td>Autoplayed: user action: None;</td>\n",
       "      <td>Limited Series Genre Specific Moment Clip: War...</td>\n",
       "      <td>HOOK</td>\n",
       "      <td>Samsung CE 2020 Nike-M UHD TV Smart TV</td>\n",
       "      <td>00:00:04</td>\n",
       "      <td>00:00:04</td>\n",
       "      <td>LU (Luxembourg)</td>\n",
       "    </tr>\n",
       "    <tr>\n",
       "      <th>19037</th>\n",
       "      <td>mutter</td>\n",
       "      <td>2023-12-01 20:34:03+00:00</td>\n",
       "      <td>0 days 00:00:09</td>\n",
       "      <td>Autoplayed: user action: None;</td>\n",
       "      <td>Trailer: Faraway</td>\n",
       "      <td>TRAILER</td>\n",
       "      <td>Samsung CE 2020 Nike-M UHD TV Smart TV</td>\n",
       "      <td>00:00:09</td>\n",
       "      <td>00:00:09</td>\n",
       "      <td>LU (Luxembourg)</td>\n",
       "    </tr>\n",
       "  </tbody>\n",
       "</table>\n",
       "<p>24996 rows × 10 columns</p>\n",
       "</div>"
      ],
      "text/plain": [
       "      Profile Name                Start Time        Duration  \\\n",
       "19036       Savvas 2015-02-15 22:48:52+00:00 0 days 00:18:35   \n",
       "19035       Savvas 2015-02-17 18:31:02+00:00 0 days 00:01:20   \n",
       "19034       Savvas 2015-02-18 12:36:09+00:00 0 days 00:00:04   \n",
       "19033       Savvas 2015-02-18 12:36:23+00:00 0 days 00:31:25   \n",
       "19032       Savvas 2015-02-18 19:39:19+00:00 0 days 00:18:06   \n",
       "...            ...                       ...             ...   \n",
       "19041       mutter 2023-12-01 20:32:12+00:00 0 days 00:00:42   \n",
       "19040       mutter 2023-12-01 20:33:10+00:00 0 days 00:00:07   \n",
       "19039       mutter 2023-12-01 20:33:25+00:00 0 days 00:00:07   \n",
       "19038       mutter 2023-12-01 20:33:49+00:00 0 days 00:00:04   \n",
       "19037       mutter 2023-12-01 20:34:03+00:00 0 days 00:00:09   \n",
       "\n",
       "                            Attributes  \\\n",
       "19036                              NaN   \n",
       "19035                              NaN   \n",
       "19034                              NaN   \n",
       "19033                              NaN   \n",
       "19032                              NaN   \n",
       "...                                ...   \n",
       "19041  Autoplayed: user action: None;    \n",
       "19040  Autoplayed: user action: None;    \n",
       "19039  Autoplayed: user action: None;    \n",
       "19038  Autoplayed: user action: None;    \n",
       "19037  Autoplayed: user action: None;    \n",
       "\n",
       "                                                   Title  \\\n",
       "19036                                        Jersey Girl   \n",
       "19035                                          Submarine   \n",
       "19034  Arrested Development: Season 2: The One Where ...   \n",
       "19033  Arrested Development: Season 4: Flight of the ...   \n",
       "19032  Arrested Development: Season 4: Borderline Per...   \n",
       "...                                                  ...   \n",
       "19041                   Season 1 Cliffhanger Clip: Tapie   \n",
       "19040                    Main Character Clip: The Killer   \n",
       "19039                            Trailer: The Noel Diary   \n",
       "19038  Limited Series Genre Specific Moment Clip: War...   \n",
       "19037                                   Trailer: Faraway   \n",
       "\n",
       "      Supplemental Video Type                             Device Type  \\\n",
       "19036                     NaN                    Safari MAC (Cadmium)   \n",
       "19035                     NaN                                Sony PS4   \n",
       "19034                     NaN                                Sony PS4   \n",
       "19033                     NaN                                Sony PS4   \n",
       "19032                     NaN                                Sony PS4   \n",
       "...                       ...                                     ...   \n",
       "19041                    HOOK  Samsung CE 2020 Nike-M UHD TV Smart TV   \n",
       "19040                    HOOK  Samsung CE 2020 Nike-M UHD TV Smart TV   \n",
       "19039                 TRAILER  Samsung CE 2020 Nike-M UHD TV Smart TV   \n",
       "19038                    HOOK  Samsung CE 2020 Nike-M UHD TV Smart TV   \n",
       "19037                 TRAILER  Samsung CE 2020 Nike-M UHD TV Smart TV   \n",
       "\n",
       "       Bookmark  Latest Bookmark          Country  \n",
       "19036  00:18:35         00:18:35  LU (Luxembourg)  \n",
       "19035  00:01:17         00:01:17      FR (France)  \n",
       "19034  00:00:06  Not latest view      FR (France)  \n",
       "19033  00:31:28         00:31:28      FR (France)  \n",
       "19032  00:15:13  Not latest view      FR (France)  \n",
       "...         ...              ...              ...  \n",
       "19041  00:00:42         00:00:42  LU (Luxembourg)  \n",
       "19040  00:00:07         00:00:07  LU (Luxembourg)  \n",
       "19039  00:00:07         00:00:07  LU (Luxembourg)  \n",
       "19038  00:00:04         00:00:04  LU (Luxembourg)  \n",
       "19037  00:00:09         00:00:09  LU (Luxembourg)  \n",
       "\n",
       "[24996 rows x 10 columns]"
      ]
     },
     "execution_count": 414,
     "metadata": {},
     "output_type": "execute_result"
    }
   ],
   "source": [
    "df.sort_values('Start Time')"
   ]
  },
  {
   "cell_type": "code",
   "execution_count": 415,
   "id": "5f1f530c",
   "metadata": {
    "ExecuteTime": {
     "end_time": "2023-12-19T08:50:49.477693Z",
     "start_time": "2023-12-19T08:50:49.462682Z"
    }
   },
   "outputs": [
    {
     "data": {
      "text/plain": [
       "Timedelta('113 days 00:11:57')"
      ]
     },
     "execution_count": 415,
     "metadata": {},
     "output_type": "execute_result"
    }
   ],
   "source": [
    "df.loc[df['Profile Name']=='Savvas','Duration'].sum()"
   ]
  },
  {
   "cell_type": "code",
   "execution_count": 416,
   "id": "9878adaf",
   "metadata": {
    "ExecuteTime": {
     "end_time": "2023-12-19T08:50:49.660799Z",
     "start_time": "2023-12-19T08:50:49.651343Z"
    }
   },
   "outputs": [
    {
     "data": {
      "text/plain": [
       "Timedelta('93 days 18:21:32')"
      ]
     },
     "execution_count": 416,
     "metadata": {},
     "output_type": "execute_result"
    }
   ],
   "source": [
    "df.loc[df['Profile Name']=='Alex','Duration'].sum()"
   ]
  },
  {
   "cell_type": "code",
   "execution_count": 417,
   "id": "3f7799ad",
   "metadata": {
    "ExecuteTime": {
     "end_time": "2023-12-19T08:50:50.280943Z",
     "start_time": "2023-12-19T08:50:50.267310Z"
    }
   },
   "outputs": [
    {
     "data": {
      "text/plain": [
       "Timedelta('23 days 21:03:41')"
      ]
     },
     "execution_count": 417,
     "metadata": {},
     "output_type": "execute_result"
    }
   ],
   "source": [
    "df.loc[df['Profile Name']=='mutter','Duration'].sum()"
   ]
  },
  {
   "cell_type": "code",
   "execution_count": 418,
   "id": "03d5d8fd",
   "metadata": {
    "ExecuteTime": {
     "end_time": "2023-12-19T08:50:50.442707Z",
     "start_time": "2023-12-19T08:50:50.428895Z"
    }
   },
   "outputs": [
    {
     "data": {
      "text/plain": [
       "Timedelta('50 days 14:46:33')"
      ]
     },
     "execution_count": 418,
     "metadata": {},
     "output_type": "execute_result"
    }
   ],
   "source": [
    "df.loc[df['Profile Name']=='Ποπη','Duration'].sum()"
   ]
  },
  {
   "cell_type": "code",
   "execution_count": 419,
   "id": "92e6358f",
   "metadata": {
    "ExecuteTime": {
     "end_time": "2023-12-19T08:50:50.845628Z",
     "start_time": "2023-12-19T08:50:50.601558Z"
    }
   },
   "outputs": [
    {
     "data": {
      "image/png": "[encoded data removed]",
      "text/plain": [
       "<Figure size 640x480 with 1 Axes>"
      ]
     },
     "metadata": {},
     "output_type": "display_data"
    }
   ],
   "source": [
    "df['Country'].value_counts().plot(kind='bar')\n",
    "plt.show()"
   ]
  },
  {
   "cell_type": "code",
   "execution_count": 420,
   "id": "a3418277",
   "metadata": {
    "ExecuteTime": {
     "end_time": "2023-12-19T08:51:01.576027Z",
     "start_time": "2023-12-19T08:51:01.285411Z"
    }
   },
   "outputs": [
    {
     "data": {
      "image/png": "[encoded data removed]",
      "text/plain": [
       "<Figure size 640x480 with 1 Axes>"
      ]
     },
     "metadata": {},
     "output_type": "display_data"
    }
   ],
   "source": [
    "df['Device Type'].value_counts().plot(kind='bar')\n",
    "plt.show()"
   ]
  },
  {
   "cell_type": "code",
   "execution_count": 318,
   "id": "7af66f2f",
   "metadata": {
    "ExecuteTime": {
     "end_time": "2023-12-09T11:59:10.568928Z",
     "start_time": "2023-12-09T11:59:10.558418Z"
    }
   },
   "outputs": [],
   "source": [
    "grouped_df = df.groupby(['Profile Name', 'Country']).size().unstack()"
   ]
  },
  {
   "cell_type": "code",
   "execution_count": 319,
   "id": "94127254",
   "metadata": {
    "ExecuteTime": {
     "end_time": "2023-12-09T11:59:10.676497Z",
     "start_time": "2023-12-09T11:59:10.665269Z"
    }
   },
   "outputs": [
    {
     "data": {
      "text/plain": [
       "Country\n",
       "AT (Austria)                  9\n",
       "BR (Brazil)                   1\n",
       "CA (Canada)                   3\n",
       "CH (Switzerland)              8\n",
       "CY (Cyprus)                   3\n",
       "DE (Germany)                 18\n",
       "FR (France)                6551\n",
       "GB (United Kingdom)        2467\n",
       "GR (Greece)                4956\n",
       "IE (Ireland)                 10\n",
       "IQ (Iraq)                     4\n",
       "IT (Italy)                    3\n",
       "LU (Luxembourg)            9097\n",
       "MX (Mexico)                   1\n",
       "NL (Netherlands)              1\n",
       "NO (Norway)                   2\n",
       "RU (Russian Federation)       1\n",
       "SE (Sweden)                  14\n",
       "US (United States)         1847\n",
       "dtype: int64"
      ]
     },
     "execution_count": 319,
     "metadata": {},
     "output_type": "execute_result"
    }
   ],
   "source": [
    "country_totals = df.groupby('Country').size()\n",
    "country_totals"
   ]
  },
  {
   "cell_type": "code",
   "execution_count": 320,
   "id": "c2e30755",
   "metadata": {
    "ExecuteTime": {
     "end_time": "2023-12-09T11:59:10.867048Z",
     "start_time": "2023-12-09T11:59:10.858291Z"
    }
   },
   "outputs": [
    {
     "data": {
      "text/plain": [
       "Index(['LU (Luxembourg)', 'FR (France)', 'GR (Greece)', 'GB (United Kingdom)',\n",
       "       'US (United States)'],\n",
       "      dtype='object', name='Country')"
      ]
     },
     "execution_count": 320,
     "metadata": {},
     "output_type": "execute_result"
    }
   ],
   "source": [
    "top_countries = country_totals.nlargest(5).index\n",
    "top_countries"
   ]
  },
  {
   "cell_type": "code",
   "execution_count": 373,
   "id": "8b66dd4c",
   "metadata": {
    "ExecuteTime": {
     "end_time": "2023-12-09T12:19:54.460264Z",
     "start_time": "2023-12-09T12:19:54.411532Z"
    }
   },
   "outputs": [],
   "source": [
    "df = df[df['Country'].isin(top_countries)]"
   ]
  },
  {
   "cell_type": "code",
   "execution_count": 374,
   "id": "b4790278",
   "metadata": {
    "ExecuteTime": {
     "end_time": "2023-12-09T12:19:59.049354Z",
     "start_time": "2023-12-09T12:19:59.025864Z"
    }
   },
   "outputs": [],
   "source": [
    "grouped_df = df.groupby(['Profile Name', 'Country']).size().unstack()"
   ]
  },
  {
   "cell_type": "code",
   "execution_count": 375,
   "id": "efab6f51",
   "metadata": {
    "ExecuteTime": {
     "end_time": "2023-12-09T12:20:02.227255Z",
     "start_time": "2023-12-09T12:20:01.906172Z"
    }
   },
   "outputs": [
    {
     "data": {
      "text/plain": [
       "<matplotlib.legend.Legend at 0x14d7690d0>"
      ]
     },
     "execution_count": 375,
     "metadata": {},
     "output_type": "execute_result"
    },
    {
     "data": {
      "image/png": "[encoded data removed]",
      "text/plain": [
       "<Figure size 1000x600 with 1 Axes>"
      ]
     },
     "metadata": {},
     "output_type": "display_data"
    }
   ],
   "source": [
    "ax = grouped_df.plot(kind='bar', stacked=True, figsize=(10, 6))\n",
    "plt.title('Stacked Chart of Countries Grouped by Profile Name')\n",
    "plt.xlabel('Profile Name')\n",
    "plt.ylabel('Value')\n",
    "plt.legend(title='Country', bbox_to_anchor=(1.05, 1), loc='upper left')"
   ]
  },
  {
   "cell_type": "code",
   "execution_count": 376,
   "id": "8d645c95",
   "metadata": {
    "ExecuteTime": {
     "end_time": "2023-12-09T12:20:12.967944Z",
     "start_time": "2023-12-09T12:20:12.955430Z"
    }
   },
   "outputs": [],
   "source": [
    "grouped_df2 = df.groupby(['Country', 'Profile Name']).size().unstack()"
   ]
  },
  {
   "cell_type": "code",
   "execution_count": 377,
   "id": "4aea4ad1",
   "metadata": {
    "ExecuteTime": {
     "end_time": "2023-12-09T12:20:13.790824Z",
     "start_time": "2023-12-09T12:20:13.522580Z"
    }
   },
   "outputs": [
    {
     "data": {
      "text/plain": [
       "<matplotlib.legend.Legend at 0x15eeb0690>"
      ]
     },
     "execution_count": 377,
     "metadata": {},
     "output_type": "execute_result"
    },
    {
     "data": {
      "image/png": "[encoded data removed]",
      "text/plain": [
       "<Figure size 1000x600 with 1 Axes>"
      ]
     },
     "metadata": {},
     "output_type": "display_data"
    }
   ],
   "source": [
    "ax = grouped_df2.plot(kind='bar', stacked=True, figsize=(10, 6))\n",
    "plt.title('Stacked Chart of Countries Grouped by Profile Name')\n",
    "plt.xlabel('Profile Name')\n",
    "plt.ylabel('Value')\n",
    "plt.legend(title='Country', bbox_to_anchor=(1.05, 1), loc='upper left')"
   ]
  },
  {
   "cell_type": "code",
   "execution_count": 378,
   "id": "0fcdf6fc",
   "metadata": {
    "ExecuteTime": {
     "end_time": "2023-12-09T12:20:26.254914Z",
     "start_time": "2023-12-09T12:20:26.246084Z"
    }
   },
   "outputs": [
    {
     "data": {
      "text/plain": [
       "Supplemental Video Type\n",
       "NaN               23389\n",
       "HOOK               1099\n",
       "TRAILER             347\n",
       "TEASER_TRAILER       70\n",
       "RECAP                 5\n",
       "PROMOTIONAL           5\n",
       "PREVIEW               2\n",
       "CINEMAGRAPH           1\n",
       "Name: count, dtype: int64"
      ]
     },
     "execution_count": 378,
     "metadata": {},
     "output_type": "execute_result"
    }
   ],
   "source": [
    "df['Supplemental Video Type'].value_counts(dropna=False)"
   ]
  },
  {
   "cell_type": "code",
   "execution_count": 379,
   "id": "0c6c15b6",
   "metadata": {
    "ExecuteTime": {
     "end_time": "2023-12-09T12:20:31.904209Z",
     "start_time": "2023-12-09T12:20:31.876969Z"
    }
   },
   "outputs": [
    {
     "data": {
      "text/html": [
       "<div>\n",
       "<style scoped>\n",
       "    .dataframe tbody tr th:only-of-type {\n",
       "        vertical-align: middle;\n",
       "    }\n",
       "\n",
       "    .dataframe tbody tr th {\n",
       "        vertical-align: top;\n",
       "    }\n",
       "\n",
       "    .dataframe thead th {\n",
       "        text-align: right;\n",
       "    }\n",
       "</style>\n",
       "<table border=\"1\" class=\"dataframe\">\n",
       "  <thead>\n",
       "    <tr style=\"text-align: right;\">\n",
       "      <th></th>\n",
       "      <th>Profile Name</th>\n",
       "      <th>Start Time</th>\n",
       "      <th>Duration</th>\n",
       "      <th>Attributes</th>\n",
       "      <th>Title</th>\n",
       "      <th>Supplemental Video Type</th>\n",
       "      <th>Device Type</th>\n",
       "      <th>Bookmark</th>\n",
       "      <th>Latest Bookmark</th>\n",
       "      <th>Country</th>\n",
       "    </tr>\n",
       "  </thead>\n",
       "  <tbody>\n",
       "    <tr>\n",
       "      <th>0</th>\n",
       "      <td>Alex</td>\n",
       "      <td>2023-11-29 19:03:51+00:00</td>\n",
       "      <td>0 days 01:06:03</td>\n",
       "      <td>NaN</td>\n",
       "      <td>Best. Christmas. Ever!</td>\n",
       "      <td>NaN</td>\n",
       "      <td>Netflix Chrome MAC (Cadmium) HTML 5</td>\n",
       "      <td>01:06:03</td>\n",
       "      <td>01:06:03</td>\n",
       "      <td>GB (United Kingdom)</td>\n",
       "    </tr>\n",
       "    <tr>\n",
       "      <th>3</th>\n",
       "      <td>Alex</td>\n",
       "      <td>2023-11-29 16:35:12+00:00</td>\n",
       "      <td>0 days 00:00:04</td>\n",
       "      <td>NaN</td>\n",
       "      <td>The Crown: Season 5: Decommissioned (Episode 10)</td>\n",
       "      <td>NaN</td>\n",
       "      <td>Netflix Chrome MAC (Cadmium) HTML 5</td>\n",
       "      <td>00:31:14</td>\n",
       "      <td>00:31:14</td>\n",
       "      <td>GB (United Kingdom)</td>\n",
       "    </tr>\n",
       "    <tr>\n",
       "      <th>5</th>\n",
       "      <td>Alex</td>\n",
       "      <td>2023-11-03 02:24:00+00:00</td>\n",
       "      <td>0 days 00:19:45</td>\n",
       "      <td>Autoplayed: user action: None;</td>\n",
       "      <td>Friends: Season 6: The One After Vegas (Episod...</td>\n",
       "      <td>NaN</td>\n",
       "      <td>Safari MAC (Cadmium)</td>\n",
       "      <td>00:19:46</td>\n",
       "      <td>00:19:46</td>\n",
       "      <td>LU (Luxembourg)</td>\n",
       "    </tr>\n",
       "    <tr>\n",
       "      <th>6</th>\n",
       "      <td>Alex</td>\n",
       "      <td>2023-11-03 02:03:19+00:00</td>\n",
       "      <td>0 days 00:20:40</td>\n",
       "      <td>NaN</td>\n",
       "      <td>Friends: Season 5: The One in Vegas: Part 2 (E...</td>\n",
       "      <td>NaN</td>\n",
       "      <td>Safari MAC (Cadmium)</td>\n",
       "      <td>00:21:37</td>\n",
       "      <td>00:21:37</td>\n",
       "      <td>LU (Luxembourg)</td>\n",
       "    </tr>\n",
       "    <tr>\n",
       "      <th>7</th>\n",
       "      <td>Alex</td>\n",
       "      <td>2023-11-03 01:41:11+00:00</td>\n",
       "      <td>0 days 00:22:06</td>\n",
       "      <td>NaN</td>\n",
       "      <td>Friends: Season 5: The One in Vegas: Part 1 (E...</td>\n",
       "      <td>NaN</td>\n",
       "      <td>Safari MAC (Cadmium)</td>\n",
       "      <td>00:22:07</td>\n",
       "      <td>00:22:07</td>\n",
       "      <td>LU (Luxembourg)</td>\n",
       "    </tr>\n",
       "    <tr>\n",
       "      <th>...</th>\n",
       "      <td>...</td>\n",
       "      <td>...</td>\n",
       "      <td>...</td>\n",
       "      <td>...</td>\n",
       "      <td>...</td>\n",
       "      <td>...</td>\n",
       "      <td>...</td>\n",
       "      <td>...</td>\n",
       "      <td>...</td>\n",
       "      <td>...</td>\n",
       "    </tr>\n",
       "    <tr>\n",
       "      <th>24991</th>\n",
       "      <td>Ποπη</td>\n",
       "      <td>2019-04-30 19:36:56+00:00</td>\n",
       "      <td>0 days 00:06:44</td>\n",
       "      <td>NaN</td>\n",
       "      <td>Sons of Anarchy: Σεζόν 1: Κόκκαλα (Επεισόδιο 7)</td>\n",
       "      <td>NaN</td>\n",
       "      <td>Mobile</td>\n",
       "      <td>00:18:07</td>\n",
       "      <td>00:18:07</td>\n",
       "      <td>GR (Greece)</td>\n",
       "    </tr>\n",
       "    <tr>\n",
       "      <th>24992</th>\n",
       "      <td>Ποπη</td>\n",
       "      <td>2019-04-30 19:24:29+00:00</td>\n",
       "      <td>0 days 00:11:24</td>\n",
       "      <td>NaN</td>\n",
       "      <td>Sons of Anarchy: Σεζόν 1: Κόκκαλα (Επεισόδιο 7)</td>\n",
       "      <td>NaN</td>\n",
       "      <td>Mobile</td>\n",
       "      <td>00:11:24</td>\n",
       "      <td>Not latest view</td>\n",
       "      <td>GR (Greece)</td>\n",
       "    </tr>\n",
       "    <tr>\n",
       "      <th>24993</th>\n",
       "      <td>Ποπη</td>\n",
       "      <td>2019-04-30 19:21:47+00:00</td>\n",
       "      <td>0 days 00:01:58</td>\n",
       "      <td>NaN</td>\n",
       "      <td>Sons of Anarchy: Σεζόν 1: Αποκάλυψη (Επεισόδιο...</td>\n",
       "      <td>NaN</td>\n",
       "      <td>Mobile</td>\n",
       "      <td>00:01:58</td>\n",
       "      <td>00:01:58</td>\n",
       "      <td>GR (Greece)</td>\n",
       "    </tr>\n",
       "    <tr>\n",
       "      <th>24994</th>\n",
       "      <td>Ποπη</td>\n",
       "      <td>2019-02-23 09:25:56+00:00</td>\n",
       "      <td>0 days 00:00:30</td>\n",
       "      <td>NaN</td>\n",
       "      <td>Αμάρτημα: Σεζόν 1: Κόρα: Μέρος I (Επεισόδιο 1)</td>\n",
       "      <td>NaN</td>\n",
       "      <td>Mobile</td>\n",
       "      <td>00:00:30</td>\n",
       "      <td>Not latest view</td>\n",
       "      <td>GR (Greece)</td>\n",
       "    </tr>\n",
       "    <tr>\n",
       "      <th>24995</th>\n",
       "      <td>Ποπη</td>\n",
       "      <td>2019-02-23 09:23:38+00:00</td>\n",
       "      <td>0 days 00:00:28</td>\n",
       "      <td>NaN</td>\n",
       "      <td>The Open House</td>\n",
       "      <td>NaN</td>\n",
       "      <td>Mobile</td>\n",
       "      <td>00:00:28</td>\n",
       "      <td>00:00:28</td>\n",
       "      <td>GR (Greece)</td>\n",
       "    </tr>\n",
       "  </tbody>\n",
       "</table>\n",
       "<p>23389 rows × 10 columns</p>\n",
       "</div>"
      ],
      "text/plain": [
       "      Profile Name                Start Time        Duration  \\\n",
       "0             Alex 2023-11-29 19:03:51+00:00 0 days 01:06:03   \n",
       "3             Alex 2023-11-29 16:35:12+00:00 0 days 00:00:04   \n",
       "5             Alex 2023-11-03 02:24:00+00:00 0 days 00:19:45   \n",
       "6             Alex 2023-11-03 02:03:19+00:00 0 days 00:20:40   \n",
       "7             Alex 2023-11-03 01:41:11+00:00 0 days 00:22:06   \n",
       "...            ...                       ...             ...   \n",
       "24991         Ποπη 2019-04-30 19:36:56+00:00 0 days 00:06:44   \n",
       "24992         Ποπη 2019-04-30 19:24:29+00:00 0 days 00:11:24   \n",
       "24993         Ποπη 2019-04-30 19:21:47+00:00 0 days 00:01:58   \n",
       "24994         Ποπη 2019-02-23 09:25:56+00:00 0 days 00:00:30   \n",
       "24995         Ποπη 2019-02-23 09:23:38+00:00 0 days 00:00:28   \n",
       "\n",
       "                            Attributes  \\\n",
       "0                                  NaN   \n",
       "3                                  NaN   \n",
       "5      Autoplayed: user action: None;    \n",
       "6                                  NaN   \n",
       "7                                  NaN   \n",
       "...                                ...   \n",
       "24991                              NaN   \n",
       "24992                              NaN   \n",
       "24993                              NaN   \n",
       "24994                              NaN   \n",
       "24995                              NaN   \n",
       "\n",
       "                                                   Title  \\\n",
       "0                                 Best. Christmas. Ever!   \n",
       "3       The Crown: Season 5: Decommissioned (Episode 10)   \n",
       "5      Friends: Season 6: The One After Vegas (Episod...   \n",
       "6      Friends: Season 5: The One in Vegas: Part 2 (E...   \n",
       "7      Friends: Season 5: The One in Vegas: Part 1 (E...   \n",
       "...                                                  ...   \n",
       "24991    Sons of Anarchy: Σεζόν 1: Κόκκαλα (Επεισόδιο 7)   \n",
       "24992    Sons of Anarchy: Σεζόν 1: Κόκκαλα (Επεισόδιο 7)   \n",
       "24993  Sons of Anarchy: Σεζόν 1: Αποκάλυψη (Επεισόδιο...   \n",
       "24994     Αμάρτημα: Σεζόν 1: Κόρα: Μέρος I (Επεισόδιο 1)   \n",
       "24995                                     The Open House   \n",
       "\n",
       "      Supplemental Video Type                          Device Type  Bookmark  \\\n",
       "0                         NaN  Netflix Chrome MAC (Cadmium) HTML 5  01:06:03   \n",
       "3                         NaN  Netflix Chrome MAC (Cadmium) HTML 5  00:31:14   \n",
       "5                         NaN                 Safari MAC (Cadmium)  00:19:46   \n",
       "6                         NaN                 Safari MAC (Cadmium)  00:21:37   \n",
       "7                         NaN                 Safari MAC (Cadmium)  00:22:07   \n",
       "...                       ...                                  ...       ...   \n",
       "24991                     NaN                               Mobile  00:18:07   \n",
       "24992                     NaN                               Mobile  00:11:24   \n",
       "24993                     NaN                               Mobile  00:01:58   \n",
       "24994                     NaN                               Mobile  00:00:30   \n",
       "24995                     NaN                               Mobile  00:00:28   \n",
       "\n",
       "       Latest Bookmark              Country  \n",
       "0             01:06:03  GB (United Kingdom)  \n",
       "3             00:31:14  GB (United Kingdom)  \n",
       "5             00:19:46      LU (Luxembourg)  \n",
       "6             00:21:37      LU (Luxembourg)  \n",
       "7             00:22:07      LU (Luxembourg)  \n",
       "...                ...                  ...  \n",
       "24991         00:18:07          GR (Greece)  \n",
       "24992  Not latest view          GR (Greece)  \n",
       "24993         00:01:58          GR (Greece)  \n",
       "24994  Not latest view          GR (Greece)  \n",
       "24995         00:00:28          GR (Greece)  \n",
       "\n",
       "[23389 rows x 10 columns]"
      ]
     },
     "execution_count": 379,
     "metadata": {},
     "output_type": "execute_result"
    }
   ],
   "source": [
    "df_filtered = df[df['Supplemental Video Type'].isna()]\n",
    "df_filtered"
   ]
  },
  {
   "cell_type": "code",
   "execution_count": 380,
   "id": "139d8d29",
   "metadata": {
    "ExecuteTime": {
     "end_time": "2023-12-09T12:20:34.034356Z",
     "start_time": "2023-12-09T12:20:34.029522Z"
    }
   },
   "outputs": [],
   "source": [
    "def determine_type(Title):\n",
    "    if 'Season' in Title or 'Σεζόν' in Title:\n",
    "        return 'Show'\n",
    "    else:\n",
    "        return 'Movie'"
   ]
  },
  {
   "cell_type": "code",
   "execution_count": 381,
   "id": "ed91bdb2",
   "metadata": {
    "ExecuteTime": {
     "end_time": "2023-12-09T12:20:35.683060Z",
     "start_time": "2023-12-09T12:20:35.667378Z"
    }
   },
   "outputs": [
    {
     "name": "stderr",
     "output_type": "stream",
     "text": [
      "/tmp/ipykernel_10263/410938854.py:1: SettingWithCopyWarning: \n",
      "A value is trying to be set on a copy of a slice from a DataFrame.\n",
      "Try using .loc[row_indexer,col_indexer] = value instead\n",
      "\n",
      "See the caveats in the documentation: https://pandas.pydata.org/pandas-docs/stable/user_guide/indexing.html#returning-a-view-versus-a-copy\n",
      "  df_filtered['Type'] = df_filtered['Title'].apply(determine_type)\n"
     ]
    }
   ],
   "source": [
    "df_filtered['Type'] = df_filtered['Title'].apply(determine_type)"
   ]
  },
  {
   "cell_type": "code",
   "execution_count": 382,
   "id": "76168954",
   "metadata": {
    "ExecuteTime": {
     "end_time": "2023-12-09T12:20:36.692744Z",
     "start_time": "2023-12-09T12:20:36.672514Z"
    }
   },
   "outputs": [
    {
     "data": {
      "text/html": [
       "<div>\n",
       "<style scoped>\n",
       "    .dataframe tbody tr th:only-of-type {\n",
       "        vertical-align: middle;\n",
       "    }\n",
       "\n",
       "    .dataframe tbody tr th {\n",
       "        vertical-align: top;\n",
       "    }\n",
       "\n",
       "    .dataframe thead th {\n",
       "        text-align: right;\n",
       "    }\n",
       "</style>\n",
       "<table border=\"1\" class=\"dataframe\">\n",
       "  <thead>\n",
       "    <tr style=\"text-align: right;\">\n",
       "      <th></th>\n",
       "      <th>Profile Name</th>\n",
       "      <th>Start Time</th>\n",
       "      <th>Duration</th>\n",
       "      <th>Attributes</th>\n",
       "      <th>Title</th>\n",
       "      <th>Supplemental Video Type</th>\n",
       "      <th>Device Type</th>\n",
       "      <th>Bookmark</th>\n",
       "      <th>Latest Bookmark</th>\n",
       "      <th>Country</th>\n",
       "      <th>Type</th>\n",
       "    </tr>\n",
       "  </thead>\n",
       "  <tbody>\n",
       "    <tr>\n",
       "      <th>0</th>\n",
       "      <td>Alex</td>\n",
       "      <td>2023-11-29 19:03:51+00:00</td>\n",
       "      <td>0 days 01:06:03</td>\n",
       "      <td>NaN</td>\n",
       "      <td>Best. Christmas. Ever!</td>\n",
       "      <td>NaN</td>\n",
       "      <td>Netflix Chrome MAC (Cadmium) HTML 5</td>\n",
       "      <td>01:06:03</td>\n",
       "      <td>01:06:03</td>\n",
       "      <td>GB (United Kingdom)</td>\n",
       "      <td>Movie</td>\n",
       "    </tr>\n",
       "    <tr>\n",
       "      <th>3</th>\n",
       "      <td>Alex</td>\n",
       "      <td>2023-11-29 16:35:12+00:00</td>\n",
       "      <td>0 days 00:00:04</td>\n",
       "      <td>NaN</td>\n",
       "      <td>The Crown: Season 5: Decommissioned (Episode 10)</td>\n",
       "      <td>NaN</td>\n",
       "      <td>Netflix Chrome MAC (Cadmium) HTML 5</td>\n",
       "      <td>00:31:14</td>\n",
       "      <td>00:31:14</td>\n",
       "      <td>GB (United Kingdom)</td>\n",
       "      <td>Show</td>\n",
       "    </tr>\n",
       "    <tr>\n",
       "      <th>5</th>\n",
       "      <td>Alex</td>\n",
       "      <td>2023-11-03 02:24:00+00:00</td>\n",
       "      <td>0 days 00:19:45</td>\n",
       "      <td>Autoplayed: user action: None;</td>\n",
       "      <td>Friends: Season 6: The One After Vegas (Episod...</td>\n",
       "      <td>NaN</td>\n",
       "      <td>Safari MAC (Cadmium)</td>\n",
       "      <td>00:19:46</td>\n",
       "      <td>00:19:46</td>\n",
       "      <td>LU (Luxembourg)</td>\n",
       "      <td>Show</td>\n",
       "    </tr>\n",
       "    <tr>\n",
       "      <th>6</th>\n",
       "      <td>Alex</td>\n",
       "      <td>2023-11-03 02:03:19+00:00</td>\n",
       "      <td>0 days 00:20:40</td>\n",
       "      <td>NaN</td>\n",
       "      <td>Friends: Season 5: The One in Vegas: Part 2 (E...</td>\n",
       "      <td>NaN</td>\n",
       "      <td>Safari MAC (Cadmium)</td>\n",
       "      <td>00:21:37</td>\n",
       "      <td>00:21:37</td>\n",
       "      <td>LU (Luxembourg)</td>\n",
       "      <td>Show</td>\n",
       "    </tr>\n",
       "    <tr>\n",
       "      <th>7</th>\n",
       "      <td>Alex</td>\n",
       "      <td>2023-11-03 01:41:11+00:00</td>\n",
       "      <td>0 days 00:22:06</td>\n",
       "      <td>NaN</td>\n",
       "      <td>Friends: Season 5: The One in Vegas: Part 1 (E...</td>\n",
       "      <td>NaN</td>\n",
       "      <td>Safari MAC (Cadmium)</td>\n",
       "      <td>00:22:07</td>\n",
       "      <td>00:22:07</td>\n",
       "      <td>LU (Luxembourg)</td>\n",
       "      <td>Show</td>\n",
       "    </tr>\n",
       "    <tr>\n",
       "      <th>...</th>\n",
       "      <td>...</td>\n",
       "      <td>...</td>\n",
       "      <td>...</td>\n",
       "      <td>...</td>\n",
       "      <td>...</td>\n",
       "      <td>...</td>\n",
       "      <td>...</td>\n",
       "      <td>...</td>\n",
       "      <td>...</td>\n",
       "      <td>...</td>\n",
       "      <td>...</td>\n",
       "    </tr>\n",
       "    <tr>\n",
       "      <th>24991</th>\n",
       "      <td>Ποπη</td>\n",
       "      <td>2019-04-30 19:36:56+00:00</td>\n",
       "      <td>0 days 00:06:44</td>\n",
       "      <td>NaN</td>\n",
       "      <td>Sons of Anarchy: Σεζόν 1: Κόκκαλα (Επεισόδιο 7)</td>\n",
       "      <td>NaN</td>\n",
       "      <td>Mobile</td>\n",
       "      <td>00:18:07</td>\n",
       "      <td>00:18:07</td>\n",
       "      <td>GR (Greece)</td>\n",
       "      <td>Show</td>\n",
       "    </tr>\n",
       "    <tr>\n",
       "      <th>24992</th>\n",
       "      <td>Ποπη</td>\n",
       "      <td>2019-04-30 19:24:29+00:00</td>\n",
       "      <td>0 days 00:11:24</td>\n",
       "      <td>NaN</td>\n",
       "      <td>Sons of Anarchy: Σεζόν 1: Κόκκαλα (Επεισόδιο 7)</td>\n",
       "      <td>NaN</td>\n",
       "      <td>Mobile</td>\n",
       "      <td>00:11:24</td>\n",
       "      <td>Not latest view</td>\n",
       "      <td>GR (Greece)</td>\n",
       "      <td>Show</td>\n",
       "    </tr>\n",
       "    <tr>\n",
       "      <th>24993</th>\n",
       "      <td>Ποπη</td>\n",
       "      <td>2019-04-30 19:21:47+00:00</td>\n",
       "      <td>0 days 00:01:58</td>\n",
       "      <td>NaN</td>\n",
       "      <td>Sons of Anarchy: Σεζόν 1: Αποκάλυψη (Επεισόδιο...</td>\n",
       "      <td>NaN</td>\n",
       "      <td>Mobile</td>\n",
       "      <td>00:01:58</td>\n",
       "      <td>00:01:58</td>\n",
       "      <td>GR (Greece)</td>\n",
       "      <td>Show</td>\n",
       "    </tr>\n",
       "    <tr>\n",
       "      <th>24994</th>\n",
       "      <td>Ποπη</td>\n",
       "      <td>2019-02-23 09:25:56+00:00</td>\n",
       "      <td>0 days 00:00:30</td>\n",
       "      <td>NaN</td>\n",
       "      <td>Αμάρτημα: Σεζόν 1: Κόρα: Μέρος I (Επεισόδιο 1)</td>\n",
       "      <td>NaN</td>\n",
       "      <td>Mobile</td>\n",
       "      <td>00:00:30</td>\n",
       "      <td>Not latest view</td>\n",
       "      <td>GR (Greece)</td>\n",
       "      <td>Show</td>\n",
       "    </tr>\n",
       "    <tr>\n",
       "      <th>24995</th>\n",
       "      <td>Ποπη</td>\n",
       "      <td>2019-02-23 09:23:38+00:00</td>\n",
       "      <td>0 days 00:00:28</td>\n",
       "      <td>NaN</td>\n",
       "      <td>The Open House</td>\n",
       "      <td>NaN</td>\n",
       "      <td>Mobile</td>\n",
       "      <td>00:00:28</td>\n",
       "      <td>00:00:28</td>\n",
       "      <td>GR (Greece)</td>\n",
       "      <td>Movie</td>\n",
       "    </tr>\n",
       "  </tbody>\n",
       "</table>\n",
       "<p>23389 rows × 11 columns</p>\n",
       "</div>"
      ],
      "text/plain": [
       "      Profile Name                Start Time        Duration  \\\n",
       "0             Alex 2023-11-29 19:03:51+00:00 0 days 01:06:03   \n",
       "3             Alex 2023-11-29 16:35:12+00:00 0 days 00:00:04   \n",
       "5             Alex 2023-11-03 02:24:00+00:00 0 days 00:19:45   \n",
       "6             Alex 2023-11-03 02:03:19+00:00 0 days 00:20:40   \n",
       "7             Alex 2023-11-03 01:41:11+00:00 0 days 00:22:06   \n",
       "...            ...                       ...             ...   \n",
       "24991         Ποπη 2019-04-30 19:36:56+00:00 0 days 00:06:44   \n",
       "24992         Ποπη 2019-04-30 19:24:29+00:00 0 days 00:11:24   \n",
       "24993         Ποπη 2019-04-30 19:21:47+00:00 0 days 00:01:58   \n",
       "24994         Ποπη 2019-02-23 09:25:56+00:00 0 days 00:00:30   \n",
       "24995         Ποπη 2019-02-23 09:23:38+00:00 0 days 00:00:28   \n",
       "\n",
       "                            Attributes  \\\n",
       "0                                  NaN   \n",
       "3                                  NaN   \n",
       "5      Autoplayed: user action: None;    \n",
       "6                                  NaN   \n",
       "7                                  NaN   \n",
       "...                                ...   \n",
       "24991                              NaN   \n",
       "24992                              NaN   \n",
       "24993                              NaN   \n",
       "24994                              NaN   \n",
       "24995                              NaN   \n",
       "\n",
       "                                                   Title  \\\n",
       "0                                 Best. Christmas. Ever!   \n",
       "3       The Crown: Season 5: Decommissioned (Episode 10)   \n",
       "5      Friends: Season 6: The One After Vegas (Episod...   \n",
       "6      Friends: Season 5: The One in Vegas: Part 2 (E...   \n",
       "7      Friends: Season 5: The One in Vegas: Part 1 (E...   \n",
       "...                                                  ...   \n",
       "24991    Sons of Anarchy: Σεζόν 1: Κόκκαλα (Επεισόδιο 7)   \n",
       "24992    Sons of Anarchy: Σεζόν 1: Κόκκαλα (Επεισόδιο 7)   \n",
       "24993  Sons of Anarchy: Σεζόν 1: Αποκάλυψη (Επεισόδιο...   \n",
       "24994     Αμάρτημα: Σεζόν 1: Κόρα: Μέρος I (Επεισόδιο 1)   \n",
       "24995                                     The Open House   \n",
       "\n",
       "      Supplemental Video Type                          Device Type  Bookmark  \\\n",
       "0                         NaN  Netflix Chrome MAC (Cadmium) HTML 5  01:06:03   \n",
       "3                         NaN  Netflix Chrome MAC (Cadmium) HTML 5  00:31:14   \n",
       "5                         NaN                 Safari MAC (Cadmium)  00:19:46   \n",
       "6                         NaN                 Safari MAC (Cadmium)  00:21:37   \n",
       "7                         NaN                 Safari MAC (Cadmium)  00:22:07   \n",
       "...                       ...                                  ...       ...   \n",
       "24991                     NaN                               Mobile  00:18:07   \n",
       "24992                     NaN                               Mobile  00:11:24   \n",
       "24993                     NaN                               Mobile  00:01:58   \n",
       "24994                     NaN                               Mobile  00:00:30   \n",
       "24995                     NaN                               Mobile  00:00:28   \n",
       "\n",
       "       Latest Bookmark              Country   Type  \n",
       "0             01:06:03  GB (United Kingdom)  Movie  \n",
       "3             00:31:14  GB (United Kingdom)   Show  \n",
       "5             00:19:46      LU (Luxembourg)   Show  \n",
       "6             00:21:37      LU (Luxembourg)   Show  \n",
       "7             00:22:07      LU (Luxembourg)   Show  \n",
       "...                ...                  ...    ...  \n",
       "24991         00:18:07          GR (Greece)   Show  \n",
       "24992  Not latest view          GR (Greece)   Show  \n",
       "24993         00:01:58          GR (Greece)   Show  \n",
       "24994  Not latest view          GR (Greece)   Show  \n",
       "24995         00:00:28          GR (Greece)  Movie  \n",
       "\n",
       "[23389 rows x 11 columns]"
      ]
     },
     "execution_count": 382,
     "metadata": {},
     "output_type": "execute_result"
    }
   ],
   "source": [
    "df_filtered"
   ]
  },
  {
   "cell_type": "code",
   "execution_count": 383,
   "id": "4ce8bdfe",
   "metadata": {
    "ExecuteTime": {
     "end_time": "2023-12-09T12:20:39.439447Z",
     "start_time": "2023-12-09T12:20:39.430050Z"
    }
   },
   "outputs": [
    {
     "data": {
      "text/plain": [
       "Type\n",
       "Movie     3326\n",
       "Show     20063\n",
       "dtype: int64"
      ]
     },
     "execution_count": 383,
     "metadata": {},
     "output_type": "execute_result"
    }
   ],
   "source": [
    "type_totals = df_filtered.groupby('Type').size()\n",
    "type_totals"
   ]
  },
  {
   "cell_type": "code",
   "execution_count": 384,
   "id": "09255150",
   "metadata": {
    "ExecuteTime": {
     "end_time": "2023-12-09T12:20:39.918489Z",
     "start_time": "2023-12-09T12:20:39.913738Z"
    }
   },
   "outputs": [],
   "source": [
    "def edit_title(row):\n",
    "    if row['Type'] == 'Show':\n",
    "        return row['Title'].split('Season')[0].strip()\n",
    "    else:\n",
    "        return row['Title']"
   ]
  },
  {
   "cell_type": "code",
   "execution_count": 385,
   "id": "a3eb33a1",
   "metadata": {
    "ExecuteTime": {
     "end_time": "2023-12-09T12:20:40.540003Z",
     "start_time": "2023-12-09T12:20:40.331028Z"
    }
   },
   "outputs": [
    {
     "name": "stderr",
     "output_type": "stream",
     "text": [
      "/tmp/ipykernel_10263/3176200990.py:1: SettingWithCopyWarning: \n",
      "A value is trying to be set on a copy of a slice from a DataFrame.\n",
      "Try using .loc[row_indexer,col_indexer] = value instead\n",
      "\n",
      "See the caveats in the documentation: https://pandas.pydata.org/pandas-docs/stable/user_guide/indexing.html#returning-a-view-versus-a-copy\n",
      "  df_filtered['Title'] = df_filtered.apply(edit_title, axis=1)\n"
     ]
    }
   ],
   "source": [
    "df_filtered['Title'] = df_filtered.apply(edit_title, axis=1)"
   ]
  },
  {
   "cell_type": "code",
   "execution_count": 386,
   "id": "ae54d48e",
   "metadata": {
    "ExecuteTime": {
     "end_time": "2023-12-09T12:20:42.007187Z",
     "start_time": "2023-12-09T12:20:42.002589Z"
    }
   },
   "outputs": [],
   "source": [
    "def edit_title(row):\n",
    "    if row['Type'] == 'Show':\n",
    "        return row['Title'].split('Σεζόν')[0].strip()\n",
    "    else:\n",
    "        return row['Title']"
   ]
  },
  {
   "cell_type": "code",
   "execution_count": 387,
   "id": "a86147c7",
   "metadata": {
    "ExecuteTime": {
     "end_time": "2023-12-09T12:20:43.594056Z",
     "start_time": "2023-12-09T12:20:42.372592Z"
    }
   },
   "outputs": [
    {
     "name": "stderr",
     "output_type": "stream",
     "text": [
      "/tmp/ipykernel_10263/3176200990.py:1: SettingWithCopyWarning: \n",
      "A value is trying to be set on a copy of a slice from a DataFrame.\n",
      "Try using .loc[row_indexer,col_indexer] = value instead\n",
      "\n",
      "See the caveats in the documentation: https://pandas.pydata.org/pandas-docs/stable/user_guide/indexing.html#returning-a-view-versus-a-copy\n",
      "  df_filtered['Title'] = df_filtered.apply(edit_title, axis=1)\n"
     ]
    }
   ],
   "source": [
    "df_filtered['Title'] = df_filtered.apply(edit_title, axis=1)"
   ]
  },
  {
   "cell_type": "code",
   "execution_count": 388,
   "id": "c402a19c",
   "metadata": {
    "ExecuteTime": {
     "end_time": "2023-12-09T12:20:43.610181Z",
     "start_time": "2023-12-09T12:20:43.596712Z"
    }
   },
   "outputs": [
    {
     "data": {
      "text/html": [
       "<div>\n",
       "<style scoped>\n",
       "    .dataframe tbody tr th:only-of-type {\n",
       "        vertical-align: middle;\n",
       "    }\n",
       "\n",
       "    .dataframe tbody tr th {\n",
       "        vertical-align: top;\n",
       "    }\n",
       "\n",
       "    .dataframe thead th {\n",
       "        text-align: right;\n",
       "    }\n",
       "</style>\n",
       "<table border=\"1\" class=\"dataframe\">\n",
       "  <thead>\n",
       "    <tr style=\"text-align: right;\">\n",
       "      <th></th>\n",
       "      <th>Profile Name</th>\n",
       "      <th>Start Time</th>\n",
       "      <th>Duration</th>\n",
       "      <th>Attributes</th>\n",
       "      <th>Title</th>\n",
       "      <th>Supplemental Video Type</th>\n",
       "      <th>Device Type</th>\n",
       "      <th>Bookmark</th>\n",
       "      <th>Latest Bookmark</th>\n",
       "      <th>Country</th>\n",
       "      <th>Type</th>\n",
       "    </tr>\n",
       "  </thead>\n",
       "  <tbody>\n",
       "    <tr>\n",
       "      <th>0</th>\n",
       "      <td>Alex</td>\n",
       "      <td>2023-11-29 19:03:51+00:00</td>\n",
       "      <td>0 days 01:06:03</td>\n",
       "      <td>NaN</td>\n",
       "      <td>Best. Christmas. Ever!</td>\n",
       "      <td>NaN</td>\n",
       "      <td>Netflix Chrome MAC (Cadmium) HTML 5</td>\n",
       "      <td>01:06:03</td>\n",
       "      <td>01:06:03</td>\n",
       "      <td>GB (United Kingdom)</td>\n",
       "      <td>Movie</td>\n",
       "    </tr>\n",
       "    <tr>\n",
       "      <th>3</th>\n",
       "      <td>Alex</td>\n",
       "      <td>2023-11-29 16:35:12+00:00</td>\n",
       "      <td>0 days 00:00:04</td>\n",
       "      <td>NaN</td>\n",
       "      <td>The Crown:</td>\n",
       "      <td>NaN</td>\n",
       "      <td>Netflix Chrome MAC (Cadmium) HTML 5</td>\n",
       "      <td>00:31:14</td>\n",
       "      <td>00:31:14</td>\n",
       "      <td>GB (United Kingdom)</td>\n",
       "      <td>Show</td>\n",
       "    </tr>\n",
       "    <tr>\n",
       "      <th>5</th>\n",
       "      <td>Alex</td>\n",
       "      <td>2023-11-03 02:24:00+00:00</td>\n",
       "      <td>0 days 00:19:45</td>\n",
       "      <td>Autoplayed: user action: None;</td>\n",
       "      <td>Friends:</td>\n",
       "      <td>NaN</td>\n",
       "      <td>Safari MAC (Cadmium)</td>\n",
       "      <td>00:19:46</td>\n",
       "      <td>00:19:46</td>\n",
       "      <td>LU (Luxembourg)</td>\n",
       "      <td>Show</td>\n",
       "    </tr>\n",
       "    <tr>\n",
       "      <th>6</th>\n",
       "      <td>Alex</td>\n",
       "      <td>2023-11-03 02:03:19+00:00</td>\n",
       "      <td>0 days 00:20:40</td>\n",
       "      <td>NaN</td>\n",
       "      <td>Friends:</td>\n",
       "      <td>NaN</td>\n",
       "      <td>Safari MAC (Cadmium)</td>\n",
       "      <td>00:21:37</td>\n",
       "      <td>00:21:37</td>\n",
       "      <td>LU (Luxembourg)</td>\n",
       "      <td>Show</td>\n",
       "    </tr>\n",
       "    <tr>\n",
       "      <th>7</th>\n",
       "      <td>Alex</td>\n",
       "      <td>2023-11-03 01:41:11+00:00</td>\n",
       "      <td>0 days 00:22:06</td>\n",
       "      <td>NaN</td>\n",
       "      <td>Friends:</td>\n",
       "      <td>NaN</td>\n",
       "      <td>Safari MAC (Cadmium)</td>\n",
       "      <td>00:22:07</td>\n",
       "      <td>00:22:07</td>\n",
       "      <td>LU (Luxembourg)</td>\n",
       "      <td>Show</td>\n",
       "    </tr>\n",
       "    <tr>\n",
       "      <th>...</th>\n",
       "      <td>...</td>\n",
       "      <td>...</td>\n",
       "      <td>...</td>\n",
       "      <td>...</td>\n",
       "      <td>...</td>\n",
       "      <td>...</td>\n",
       "      <td>...</td>\n",
       "      <td>...</td>\n",
       "      <td>...</td>\n",
       "      <td>...</td>\n",
       "      <td>...</td>\n",
       "    </tr>\n",
       "    <tr>\n",
       "      <th>24991</th>\n",
       "      <td>Ποπη</td>\n",
       "      <td>2019-04-30 19:36:56+00:00</td>\n",
       "      <td>0 days 00:06:44</td>\n",
       "      <td>NaN</td>\n",
       "      <td>Sons of Anarchy:</td>\n",
       "      <td>NaN</td>\n",
       "      <td>Mobile</td>\n",
       "      <td>00:18:07</td>\n",
       "      <td>00:18:07</td>\n",
       "      <td>GR (Greece)</td>\n",
       "      <td>Show</td>\n",
       "    </tr>\n",
       "    <tr>\n",
       "      <th>24992</th>\n",
       "      <td>Ποπη</td>\n",
       "      <td>2019-04-30 19:24:29+00:00</td>\n",
       "      <td>0 days 00:11:24</td>\n",
       "      <td>NaN</td>\n",
       "      <td>Sons of Anarchy:</td>\n",
       "      <td>NaN</td>\n",
       "      <td>Mobile</td>\n",
       "      <td>00:11:24</td>\n",
       "      <td>Not latest view</td>\n",
       "      <td>GR (Greece)</td>\n",
       "      <td>Show</td>\n",
       "    </tr>\n",
       "    <tr>\n",
       "      <th>24993</th>\n",
       "      <td>Ποπη</td>\n",
       "      <td>2019-04-30 19:21:47+00:00</td>\n",
       "      <td>0 days 00:01:58</td>\n",
       "      <td>NaN</td>\n",
       "      <td>Sons of Anarchy:</td>\n",
       "      <td>NaN</td>\n",
       "      <td>Mobile</td>\n",
       "      <td>00:01:58</td>\n",
       "      <td>00:01:58</td>\n",
       "      <td>GR (Greece)</td>\n",
       "      <td>Show</td>\n",
       "    </tr>\n",
       "    <tr>\n",
       "      <th>24994</th>\n",
       "      <td>Ποπη</td>\n",
       "      <td>2019-02-23 09:25:56+00:00</td>\n",
       "      <td>0 days 00:00:30</td>\n",
       "      <td>NaN</td>\n",
       "      <td>Αμάρτημα:</td>\n",
       "      <td>NaN</td>\n",
       "      <td>Mobile</td>\n",
       "      <td>00:00:30</td>\n",
       "      <td>Not latest view</td>\n",
       "      <td>GR (Greece)</td>\n",
       "      <td>Show</td>\n",
       "    </tr>\n",
       "    <tr>\n",
       "      <th>24995</th>\n",
       "      <td>Ποπη</td>\n",
       "      <td>2019-02-23 09:23:38+00:00</td>\n",
       "      <td>0 days 00:00:28</td>\n",
       "      <td>NaN</td>\n",
       "      <td>The Open House</td>\n",
       "      <td>NaN</td>\n",
       "      <td>Mobile</td>\n",
       "      <td>00:00:28</td>\n",
       "      <td>00:00:28</td>\n",
       "      <td>GR (Greece)</td>\n",
       "      <td>Movie</td>\n",
       "    </tr>\n",
       "  </tbody>\n",
       "</table>\n",
       "<p>23389 rows × 11 columns</p>\n",
       "</div>"
      ],
      "text/plain": [
       "      Profile Name                Start Time        Duration  \\\n",
       "0             Alex 2023-11-29 19:03:51+00:00 0 days 01:06:03   \n",
       "3             Alex 2023-11-29 16:35:12+00:00 0 days 00:00:04   \n",
       "5             Alex 2023-11-03 02:24:00+00:00 0 days 00:19:45   \n",
       "6             Alex 2023-11-03 02:03:19+00:00 0 days 00:20:40   \n",
       "7             Alex 2023-11-03 01:41:11+00:00 0 days 00:22:06   \n",
       "...            ...                       ...             ...   \n",
       "24991         Ποπη 2019-04-30 19:36:56+00:00 0 days 00:06:44   \n",
       "24992         Ποπη 2019-04-30 19:24:29+00:00 0 days 00:11:24   \n",
       "24993         Ποπη 2019-04-30 19:21:47+00:00 0 days 00:01:58   \n",
       "24994         Ποπη 2019-02-23 09:25:56+00:00 0 days 00:00:30   \n",
       "24995         Ποπη 2019-02-23 09:23:38+00:00 0 days 00:00:28   \n",
       "\n",
       "                            Attributes                   Title  \\\n",
       "0                                  NaN  Best. Christmas. Ever!   \n",
       "3                                  NaN              The Crown:   \n",
       "5      Autoplayed: user action: None;                 Friends:   \n",
       "6                                  NaN                Friends:   \n",
       "7                                  NaN                Friends:   \n",
       "...                                ...                     ...   \n",
       "24991                              NaN        Sons of Anarchy:   \n",
       "24992                              NaN        Sons of Anarchy:   \n",
       "24993                              NaN        Sons of Anarchy:   \n",
       "24994                              NaN               Αμάρτημα:   \n",
       "24995                              NaN          The Open House   \n",
       "\n",
       "      Supplemental Video Type                          Device Type  Bookmark  \\\n",
       "0                         NaN  Netflix Chrome MAC (Cadmium) HTML 5  01:06:03   \n",
       "3                         NaN  Netflix Chrome MAC (Cadmium) HTML 5  00:31:14   \n",
       "5                         NaN                 Safari MAC (Cadmium)  00:19:46   \n",
       "6                         NaN                 Safari MAC (Cadmium)  00:21:37   \n",
       "7                         NaN                 Safari MAC (Cadmium)  00:22:07   \n",
       "...                       ...                                  ...       ...   \n",
       "24991                     NaN                               Mobile  00:18:07   \n",
       "24992                     NaN                               Mobile  00:11:24   \n",
       "24993                     NaN                               Mobile  00:01:58   \n",
       "24994                     NaN                               Mobile  00:00:30   \n",
       "24995                     NaN                               Mobile  00:00:28   \n",
       "\n",
       "       Latest Bookmark              Country   Type  \n",
       "0             01:06:03  GB (United Kingdom)  Movie  \n",
       "3             00:31:14  GB (United Kingdom)   Show  \n",
       "5             00:19:46      LU (Luxembourg)   Show  \n",
       "6             00:21:37      LU (Luxembourg)   Show  \n",
       "7             00:22:07      LU (Luxembourg)   Show  \n",
       "...                ...                  ...    ...  \n",
       "24991         00:18:07          GR (Greece)   Show  \n",
       "24992  Not latest view          GR (Greece)   Show  \n",
       "24993         00:01:58          GR (Greece)   Show  \n",
       "24994  Not latest view          GR (Greece)   Show  \n",
       "24995         00:00:28          GR (Greece)  Movie  \n",
       "\n",
       "[23389 rows x 11 columns]"
      ]
     },
     "execution_count": 388,
     "metadata": {},
     "output_type": "execute_result"
    }
   ],
   "source": [
    "df_filtered"
   ]
  },
  {
   "cell_type": "code",
   "execution_count": 389,
   "id": "a6746943",
   "metadata": {
    "ExecuteTime": {
     "end_time": "2023-12-09T12:20:43.617059Z",
     "start_time": "2023-12-09T12:20:43.613538Z"
    }
   },
   "outputs": [],
   "source": [
    "def edit_title(row):\n",
    "    if row['Type'] == 'Show':\n",
    "        return row['Title'].split(':')[0].strip()\n",
    "    else:\n",
    "        return row['Title']"
   ]
  },
  {
   "cell_type": "code",
   "execution_count": 390,
   "id": "324af788",
   "metadata": {
    "ExecuteTime": {
     "end_time": "2023-12-09T12:20:43.958151Z",
     "start_time": "2023-12-09T12:20:43.754732Z"
    }
   },
   "outputs": [
    {
     "name": "stderr",
     "output_type": "stream",
     "text": [
      "/tmp/ipykernel_10263/3176200990.py:1: SettingWithCopyWarning: \n",
      "A value is trying to be set on a copy of a slice from a DataFrame.\n",
      "Try using .loc[row_indexer,col_indexer] = value instead\n",
      "\n",
      "See the caveats in the documentation: https://pandas.pydata.org/pandas-docs/stable/user_guide/indexing.html#returning-a-view-versus-a-copy\n",
      "  df_filtered['Title'] = df_filtered.apply(edit_title, axis=1)\n"
     ]
    }
   ],
   "source": [
    "df_filtered['Title'] = df_filtered.apply(edit_title, axis=1)"
   ]
  },
  {
   "cell_type": "code",
   "execution_count": 391,
   "id": "de16d035",
   "metadata": {
    "ExecuteTime": {
     "end_time": "2023-12-09T12:20:44.778148Z",
     "start_time": "2023-12-09T12:20:44.758995Z"
    },
    "scrolled": true
   },
   "outputs": [
    {
     "data": {
      "text/html": [
       "<div>\n",
       "<style scoped>\n",
       "    .dataframe tbody tr th:only-of-type {\n",
       "        vertical-align: middle;\n",
       "    }\n",
       "\n",
       "    .dataframe tbody tr th {\n",
       "        vertical-align: top;\n",
       "    }\n",
       "\n",
       "    .dataframe thead th {\n",
       "        text-align: right;\n",
       "    }\n",
       "</style>\n",
       "<table border=\"1\" class=\"dataframe\">\n",
       "  <thead>\n",
       "    <tr style=\"text-align: right;\">\n",
       "      <th></th>\n",
       "      <th>Profile Name</th>\n",
       "      <th>Start Time</th>\n",
       "      <th>Duration</th>\n",
       "      <th>Attributes</th>\n",
       "      <th>Title</th>\n",
       "      <th>Supplemental Video Type</th>\n",
       "      <th>Device Type</th>\n",
       "      <th>Bookmark</th>\n",
       "      <th>Latest Bookmark</th>\n",
       "      <th>Country</th>\n",
       "      <th>Type</th>\n",
       "    </tr>\n",
       "  </thead>\n",
       "  <tbody>\n",
       "    <tr>\n",
       "      <th>0</th>\n",
       "      <td>Alex</td>\n",
       "      <td>2023-11-29 19:03:51+00:00</td>\n",
       "      <td>0 days 01:06:03</td>\n",
       "      <td>NaN</td>\n",
       "      <td>Best. Christmas. Ever!</td>\n",
       "      <td>NaN</td>\n",
       "      <td>Netflix Chrome MAC (Cadmium) HTML 5</td>\n",
       "      <td>01:06:03</td>\n",
       "      <td>01:06:03</td>\n",
       "      <td>GB (United Kingdom)</td>\n",
       "      <td>Movie</td>\n",
       "    </tr>\n",
       "    <tr>\n",
       "      <th>3</th>\n",
       "      <td>Alex</td>\n",
       "      <td>2023-11-29 16:35:12+00:00</td>\n",
       "      <td>0 days 00:00:04</td>\n",
       "      <td>NaN</td>\n",
       "      <td>The Crown</td>\n",
       "      <td>NaN</td>\n",
       "      <td>Netflix Chrome MAC (Cadmium) HTML 5</td>\n",
       "      <td>00:31:14</td>\n",
       "      <td>00:31:14</td>\n",
       "      <td>GB (United Kingdom)</td>\n",
       "      <td>Show</td>\n",
       "    </tr>\n",
       "    <tr>\n",
       "      <th>5</th>\n",
       "      <td>Alex</td>\n",
       "      <td>2023-11-03 02:24:00+00:00</td>\n",
       "      <td>0 days 00:19:45</td>\n",
       "      <td>Autoplayed: user action: None;</td>\n",
       "      <td>Friends</td>\n",
       "      <td>NaN</td>\n",
       "      <td>Safari MAC (Cadmium)</td>\n",
       "      <td>00:19:46</td>\n",
       "      <td>00:19:46</td>\n",
       "      <td>LU (Luxembourg)</td>\n",
       "      <td>Show</td>\n",
       "    </tr>\n",
       "    <tr>\n",
       "      <th>6</th>\n",
       "      <td>Alex</td>\n",
       "      <td>2023-11-03 02:03:19+00:00</td>\n",
       "      <td>0 days 00:20:40</td>\n",
       "      <td>NaN</td>\n",
       "      <td>Friends</td>\n",
       "      <td>NaN</td>\n",
       "      <td>Safari MAC (Cadmium)</td>\n",
       "      <td>00:21:37</td>\n",
       "      <td>00:21:37</td>\n",
       "      <td>LU (Luxembourg)</td>\n",
       "      <td>Show</td>\n",
       "    </tr>\n",
       "    <tr>\n",
       "      <th>7</th>\n",
       "      <td>Alex</td>\n",
       "      <td>2023-11-03 01:41:11+00:00</td>\n",
       "      <td>0 days 00:22:06</td>\n",
       "      <td>NaN</td>\n",
       "      <td>Friends</td>\n",
       "      <td>NaN</td>\n",
       "      <td>Safari MAC (Cadmium)</td>\n",
       "      <td>00:22:07</td>\n",
       "      <td>00:22:07</td>\n",
       "      <td>LU (Luxembourg)</td>\n",
       "      <td>Show</td>\n",
       "    </tr>\n",
       "    <tr>\n",
       "      <th>...</th>\n",
       "      <td>...</td>\n",
       "      <td>...</td>\n",
       "      <td>...</td>\n",
       "      <td>...</td>\n",
       "      <td>...</td>\n",
       "      <td>...</td>\n",
       "      <td>...</td>\n",
       "      <td>...</td>\n",
       "      <td>...</td>\n",
       "      <td>...</td>\n",
       "      <td>...</td>\n",
       "    </tr>\n",
       "    <tr>\n",
       "      <th>24991</th>\n",
       "      <td>Ποπη</td>\n",
       "      <td>2019-04-30 19:36:56+00:00</td>\n",
       "      <td>0 days 00:06:44</td>\n",
       "      <td>NaN</td>\n",
       "      <td>Sons of Anarchy</td>\n",
       "      <td>NaN</td>\n",
       "      <td>Mobile</td>\n",
       "      <td>00:18:07</td>\n",
       "      <td>00:18:07</td>\n",
       "      <td>GR (Greece)</td>\n",
       "      <td>Show</td>\n",
       "    </tr>\n",
       "    <tr>\n",
       "      <th>24992</th>\n",
       "      <td>Ποπη</td>\n",
       "      <td>2019-04-30 19:24:29+00:00</td>\n",
       "      <td>0 days 00:11:24</td>\n",
       "      <td>NaN</td>\n",
       "      <td>Sons of Anarchy</td>\n",
       "      <td>NaN</td>\n",
       "      <td>Mobile</td>\n",
       "      <td>00:11:24</td>\n",
       "      <td>Not latest view</td>\n",
       "      <td>GR (Greece)</td>\n",
       "      <td>Show</td>\n",
       "    </tr>\n",
       "    <tr>\n",
       "      <th>24993</th>\n",
       "      <td>Ποπη</td>\n",
       "      <td>2019-04-30 19:21:47+00:00</td>\n",
       "      <td>0 days 00:01:58</td>\n",
       "      <td>NaN</td>\n",
       "      <td>Sons of Anarchy</td>\n",
       "      <td>NaN</td>\n",
       "      <td>Mobile</td>\n",
       "      <td>00:01:58</td>\n",
       "      <td>00:01:58</td>\n",
       "      <td>GR (Greece)</td>\n",
       "      <td>Show</td>\n",
       "    </tr>\n",
       "    <tr>\n",
       "      <th>24994</th>\n",
       "      <td>Ποπη</td>\n",
       "      <td>2019-02-23 09:25:56+00:00</td>\n",
       "      <td>0 days 00:00:30</td>\n",
       "      <td>NaN</td>\n",
       "      <td>Αμάρτημα</td>\n",
       "      <td>NaN</td>\n",
       "      <td>Mobile</td>\n",
       "      <td>00:00:30</td>\n",
       "      <td>Not latest view</td>\n",
       "      <td>GR (Greece)</td>\n",
       "      <td>Show</td>\n",
       "    </tr>\n",
       "    <tr>\n",
       "      <th>24995</th>\n",
       "      <td>Ποπη</td>\n",
       "      <td>2019-02-23 09:23:38+00:00</td>\n",
       "      <td>0 days 00:00:28</td>\n",
       "      <td>NaN</td>\n",
       "      <td>The Open House</td>\n",
       "      <td>NaN</td>\n",
       "      <td>Mobile</td>\n",
       "      <td>00:00:28</td>\n",
       "      <td>00:00:28</td>\n",
       "      <td>GR (Greece)</td>\n",
       "      <td>Movie</td>\n",
       "    </tr>\n",
       "  </tbody>\n",
       "</table>\n",
       "<p>23389 rows × 11 columns</p>\n",
       "</div>"
      ],
      "text/plain": [
       "      Profile Name                Start Time        Duration  \\\n",
       "0             Alex 2023-11-29 19:03:51+00:00 0 days 01:06:03   \n",
       "3             Alex 2023-11-29 16:35:12+00:00 0 days 00:00:04   \n",
       "5             Alex 2023-11-03 02:24:00+00:00 0 days 00:19:45   \n",
       "6             Alex 2023-11-03 02:03:19+00:00 0 days 00:20:40   \n",
       "7             Alex 2023-11-03 01:41:11+00:00 0 days 00:22:06   \n",
       "...            ...                       ...             ...   \n",
       "24991         Ποπη 2019-04-30 19:36:56+00:00 0 days 00:06:44   \n",
       "24992         Ποπη 2019-04-30 19:24:29+00:00 0 days 00:11:24   \n",
       "24993         Ποπη 2019-04-30 19:21:47+00:00 0 days 00:01:58   \n",
       "24994         Ποπη 2019-02-23 09:25:56+00:00 0 days 00:00:30   \n",
       "24995         Ποπη 2019-02-23 09:23:38+00:00 0 days 00:00:28   \n",
       "\n",
       "                            Attributes                   Title  \\\n",
       "0                                  NaN  Best. Christmas. Ever!   \n",
       "3                                  NaN               The Crown   \n",
       "5      Autoplayed: user action: None;                  Friends   \n",
       "6                                  NaN                 Friends   \n",
       "7                                  NaN                 Friends   \n",
       "...                                ...                     ...   \n",
       "24991                              NaN         Sons of Anarchy   \n",
       "24992                              NaN         Sons of Anarchy   \n",
       "24993                              NaN         Sons of Anarchy   \n",
       "24994                              NaN                Αμάρτημα   \n",
       "24995                              NaN          The Open House   \n",
       "\n",
       "      Supplemental Video Type                          Device Type  Bookmark  \\\n",
       "0                         NaN  Netflix Chrome MAC (Cadmium) HTML 5  01:06:03   \n",
       "3                         NaN  Netflix Chrome MAC (Cadmium) HTML 5  00:31:14   \n",
       "5                         NaN                 Safari MAC (Cadmium)  00:19:46   \n",
       "6                         NaN                 Safari MAC (Cadmium)  00:21:37   \n",
       "7                         NaN                 Safari MAC (Cadmium)  00:22:07   \n",
       "...                       ...                                  ...       ...   \n",
       "24991                     NaN                               Mobile  00:18:07   \n",
       "24992                     NaN                               Mobile  00:11:24   \n",
       "24993                     NaN                               Mobile  00:01:58   \n",
       "24994                     NaN                               Mobile  00:00:30   \n",
       "24995                     NaN                               Mobile  00:00:28   \n",
       "\n",
       "       Latest Bookmark              Country   Type  \n",
       "0             01:06:03  GB (United Kingdom)  Movie  \n",
       "3             00:31:14  GB (United Kingdom)   Show  \n",
       "5             00:19:46      LU (Luxembourg)   Show  \n",
       "6             00:21:37      LU (Luxembourg)   Show  \n",
       "7             00:22:07      LU (Luxembourg)   Show  \n",
       "...                ...                  ...    ...  \n",
       "24991         00:18:07          GR (Greece)   Show  \n",
       "24992  Not latest view          GR (Greece)   Show  \n",
       "24993         00:01:58          GR (Greece)   Show  \n",
       "24994  Not latest view          GR (Greece)   Show  \n",
       "24995         00:00:28          GR (Greece)  Movie  \n",
       "\n",
       "[23389 rows x 11 columns]"
      ]
     },
     "execution_count": 391,
     "metadata": {},
     "output_type": "execute_result"
    }
   ],
   "source": [
    "df_filtered"
   ]
  },
  {
   "cell_type": "code",
   "execution_count": 392,
   "id": "3f1958b9",
   "metadata": {
    "ExecuteTime": {
     "end_time": "2023-12-09T12:20:45.278671Z",
     "start_time": "2023-12-09T12:20:45.262954Z"
    }
   },
   "outputs": [],
   "source": [
    "df_show_only = df_filtered[df_filtered['Type'] == 'Show']"
   ]
  },
  {
   "cell_type": "code",
   "execution_count": 393,
   "id": "b40da0c4",
   "metadata": {
    "ExecuteTime": {
     "end_time": "2023-12-09T12:20:45.976107Z",
     "start_time": "2023-12-09T12:20:45.967196Z"
    }
   },
   "outputs": [],
   "source": [
    "df_movie_only = df_filtered[df_filtered['Type'] == 'Movie']"
   ]
  },
  {
   "cell_type": "code",
   "execution_count": 394,
   "id": "e880ebd5",
   "metadata": {
    "ExecuteTime": {
     "end_time": "2023-12-09T12:20:48.674498Z",
     "start_time": "2023-12-09T12:20:48.663870Z"
    }
   },
   "outputs": [
    {
     "data": {
      "text/plain": [
       "Title\n",
       "13 Going on 30             4\n",
       "1899: Στα Παρασκήνια       2\n",
       "1922                       2\n",
       "2 States                   1\n",
       "22 Ιουλίου                 1\n",
       "                          ..\n",
       "Χριστούγεννα εξ Ουρανού    1\n",
       "Χωρίς Ίχνη                 1\n",
       "Χόρεψε Μαζί του            5\n",
       "Ψίθυροι στη Νύχτα          6\n",
       "Ψύχωση                     2\n",
       "Length: 1216, dtype: int64"
      ]
     },
     "execution_count": 394,
     "metadata": {},
     "output_type": "execute_result"
    }
   ],
   "source": [
    "fav_movies = df_movie_only.groupby('Title').size()\n",
    "fav_movies"
   ]
  },
  {
   "cell_type": "code",
   "execution_count": 395,
   "id": "d868e8ea",
   "metadata": {
    "ExecuteTime": {
     "end_time": "2023-12-09T12:20:49.978288Z",
     "start_time": "2023-12-09T12:20:49.969400Z"
    }
   },
   "outputs": [
    {
     "data": {
      "text/plain": [
       "Title\n",
       "Ricky Gervais: Humanity             36\n",
       "Sex and the City 2                  32\n",
       "Louis C.K. 2017                     27\n",
       "Sex and the City: The Movie         24\n",
       "Nate Bargatze: The Tennessee Kid    21\n",
       "                                    ..\n",
       "Mr. Harrigan's Phone                 1\n",
       "Yara                                 1\n",
       "The Wonder                           1\n",
       "The Judge                            1\n",
       "The Open House                       1\n",
       "Name: count, Length: 1216, dtype: int64"
      ]
     },
     "execution_count": 395,
     "metadata": {},
     "output_type": "execute_result"
    }
   ],
   "source": [
    "df_movie_only['Title'].value_counts()"
   ]
  },
  {
   "cell_type": "code",
   "execution_count": 396,
   "id": "a6803d47",
   "metadata": {
    "ExecuteTime": {
     "end_time": "2023-12-09T12:20:50.846633Z",
     "start_time": "2023-12-09T12:20:50.826090Z"
    }
   },
   "outputs": [
    {
     "data": {
      "text/html": [
       "<div>\n",
       "<style scoped>\n",
       "    .dataframe tbody tr th:only-of-type {\n",
       "        vertical-align: middle;\n",
       "    }\n",
       "\n",
       "    .dataframe tbody tr th {\n",
       "        vertical-align: top;\n",
       "    }\n",
       "\n",
       "    .dataframe thead th {\n",
       "        text-align: right;\n",
       "    }\n",
       "</style>\n",
       "<table border=\"1\" class=\"dataframe\">\n",
       "  <thead>\n",
       "    <tr style=\"text-align: right;\">\n",
       "      <th></th>\n",
       "      <th>Profile Name</th>\n",
       "      <th>Start Time</th>\n",
       "      <th>Duration</th>\n",
       "      <th>Attributes</th>\n",
       "      <th>Title</th>\n",
       "      <th>Supplemental Video Type</th>\n",
       "      <th>Device Type</th>\n",
       "      <th>Bookmark</th>\n",
       "      <th>Latest Bookmark</th>\n",
       "      <th>Country</th>\n",
       "      <th>Type</th>\n",
       "    </tr>\n",
       "  </thead>\n",
       "  <tbody>\n",
       "    <tr>\n",
       "      <th>22797</th>\n",
       "      <td>Ποπη</td>\n",
       "      <td>2021-05-17 14:06:08+00:00</td>\n",
       "      <td>0 days 00:12:23</td>\n",
       "      <td>NaN</td>\n",
       "      <td>Ψύχωση</td>\n",
       "      <td>NaN</td>\n",
       "      <td>Android DefaultWidevineL3Tablet Android Tablet</td>\n",
       "      <td>00:12:20</td>\n",
       "      <td>Not latest view</td>\n",
       "      <td>GR (Greece)</td>\n",
       "      <td>Movie</td>\n",
       "    </tr>\n",
       "    <tr>\n",
       "      <th>22796</th>\n",
       "      <td>Ποπη</td>\n",
       "      <td>2021-05-18 12:53:40+00:00</td>\n",
       "      <td>0 days 01:32:46</td>\n",
       "      <td>NaN</td>\n",
       "      <td>Ψύχωση</td>\n",
       "      <td>NaN</td>\n",
       "      <td>Android DefaultWidevineL3Tablet Android Tablet</td>\n",
       "      <td>01:44:59</td>\n",
       "      <td>01:44:59</td>\n",
       "      <td>GR (Greece)</td>\n",
       "      <td>Movie</td>\n",
       "    </tr>\n",
       "    <tr>\n",
       "      <th>22086</th>\n",
       "      <td>Ποπη</td>\n",
       "      <td>2022-01-21 13:31:14+00:00</td>\n",
       "      <td>0 days 00:05:06</td>\n",
       "      <td>NaN</td>\n",
       "      <td>Ψίθυροι στη Νύχτα</td>\n",
       "      <td>NaN</td>\n",
       "      <td>Android DefaultWidevineL3Tablet Android Tablet</td>\n",
       "      <td>01:15:14</td>\n",
       "      <td>Not latest view</td>\n",
       "      <td>GR (Greece)</td>\n",
       "      <td>Movie</td>\n",
       "    </tr>\n",
       "    <tr>\n",
       "      <th>22087</th>\n",
       "      <td>Ποπη</td>\n",
       "      <td>2022-01-20 21:18:52+00:00</td>\n",
       "      <td>0 days 01:10:11</td>\n",
       "      <td>NaN</td>\n",
       "      <td>Ψίθυροι στη Νύχτα</td>\n",
       "      <td>NaN</td>\n",
       "      <td>Android DefaultWidevineL3Tablet Android Tablet</td>\n",
       "      <td>01:10:11</td>\n",
       "      <td>Not latest view</td>\n",
       "      <td>GR (Greece)</td>\n",
       "      <td>Movie</td>\n",
       "    </tr>\n",
       "    <tr>\n",
       "      <th>22070</th>\n",
       "      <td>Ποπη</td>\n",
       "      <td>2022-01-29 13:51:06+00:00</td>\n",
       "      <td>0 days 00:06:30</td>\n",
       "      <td>NaN</td>\n",
       "      <td>Ψίθυροι στη Νύχτα</td>\n",
       "      <td>NaN</td>\n",
       "      <td>Android DefaultWidevineL3Tablet Android Tablet</td>\n",
       "      <td>01:30:25</td>\n",
       "      <td>01:30:25</td>\n",
       "      <td>GR (Greece)</td>\n",
       "      <td>Movie</td>\n",
       "    </tr>\n",
       "    <tr>\n",
       "      <th>22071</th>\n",
       "      <td>Ποπη</td>\n",
       "      <td>2022-01-28 22:21:11+00:00</td>\n",
       "      <td>0 days 00:43:31</td>\n",
       "      <td>NaN</td>\n",
       "      <td>Ψίθυροι στη Νύχτα</td>\n",
       "      <td>NaN</td>\n",
       "      <td>Android DefaultWidevineL3Tablet Android Tablet</td>\n",
       "      <td>01:23:50</td>\n",
       "      <td>Not latest view</td>\n",
       "      <td>GR (Greece)</td>\n",
       "      <td>Movie</td>\n",
       "    </tr>\n",
       "    <tr>\n",
       "      <th>22072</th>\n",
       "      <td>Ποπη</td>\n",
       "      <td>2022-01-28 21:25:54+00:00</td>\n",
       "      <td>0 days 00:03:29</td>\n",
       "      <td>NaN</td>\n",
       "      <td>Ψίθυροι στη Νύχτα</td>\n",
       "      <td>NaN</td>\n",
       "      <td>Android DefaultWidevineL3Tablet Android Tablet</td>\n",
       "      <td>00:20:37</td>\n",
       "      <td>Not latest view</td>\n",
       "      <td>GR (Greece)</td>\n",
       "      <td>Movie</td>\n",
       "    </tr>\n",
       "    <tr>\n",
       "      <th>22085</th>\n",
       "      <td>Ποπη</td>\n",
       "      <td>2022-01-21 20:57:00+00:00</td>\n",
       "      <td>0 days 00:15:13</td>\n",
       "      <td>NaN</td>\n",
       "      <td>Ψίθυροι στη Νύχτα</td>\n",
       "      <td>NaN</td>\n",
       "      <td>Android DefaultWidevineL3Tablet Android Tablet</td>\n",
       "      <td>01:30:24</td>\n",
       "      <td>Not latest view</td>\n",
       "      <td>GR (Greece)</td>\n",
       "      <td>Movie</td>\n",
       "    </tr>\n",
       "    <tr>\n",
       "      <th>22488</th>\n",
       "      <td>Ποπη</td>\n",
       "      <td>2021-08-10 16:36:28+00:00</td>\n",
       "      <td>0 days 00:08:39</td>\n",
       "      <td>NaN</td>\n",
       "      <td>Χόρεψε Μαζί του</td>\n",
       "      <td>NaN</td>\n",
       "      <td>Android DefaultWidevineL3Tablet Android Tablet</td>\n",
       "      <td>01:52:24</td>\n",
       "      <td>Not latest view</td>\n",
       "      <td>GR (Greece)</td>\n",
       "      <td>Movie</td>\n",
       "    </tr>\n",
       "    <tr>\n",
       "      <th>22489</th>\n",
       "      <td>Ποπη</td>\n",
       "      <td>2021-08-10 14:57:54+00:00</td>\n",
       "      <td>0 days 00:07:35</td>\n",
       "      <td>NaN</td>\n",
       "      <td>Χόρεψε Μαζί του</td>\n",
       "      <td>NaN</td>\n",
       "      <td>Android DefaultWidevineL3Tablet Android Tablet</td>\n",
       "      <td>01:43:51</td>\n",
       "      <td>Not latest view</td>\n",
       "      <td>GR (Greece)</td>\n",
       "      <td>Movie</td>\n",
       "    </tr>\n",
       "  </tbody>\n",
       "</table>\n",
       "</div>"
      ],
      "text/plain": [
       "      Profile Name                Start Time        Duration Attributes  \\\n",
       "22797         Ποπη 2021-05-17 14:06:08+00:00 0 days 00:12:23        NaN   \n",
       "22796         Ποπη 2021-05-18 12:53:40+00:00 0 days 01:32:46        NaN   \n",
       "22086         Ποπη 2022-01-21 13:31:14+00:00 0 days 00:05:06        NaN   \n",
       "22087         Ποπη 2022-01-20 21:18:52+00:00 0 days 01:10:11        NaN   \n",
       "22070         Ποπη 2022-01-29 13:51:06+00:00 0 days 00:06:30        NaN   \n",
       "22071         Ποπη 2022-01-28 22:21:11+00:00 0 days 00:43:31        NaN   \n",
       "22072         Ποπη 2022-01-28 21:25:54+00:00 0 days 00:03:29        NaN   \n",
       "22085         Ποπη 2022-01-21 20:57:00+00:00 0 days 00:15:13        NaN   \n",
       "22488         Ποπη 2021-08-10 16:36:28+00:00 0 days 00:08:39        NaN   \n",
       "22489         Ποπη 2021-08-10 14:57:54+00:00 0 days 00:07:35        NaN   \n",
       "\n",
       "                   Title Supplemental Video Type  \\\n",
       "22797             Ψύχωση                     NaN   \n",
       "22796             Ψύχωση                     NaN   \n",
       "22086  Ψίθυροι στη Νύχτα                     NaN   \n",
       "22087  Ψίθυροι στη Νύχτα                     NaN   \n",
       "22070  Ψίθυροι στη Νύχτα                     NaN   \n",
       "22071  Ψίθυροι στη Νύχτα                     NaN   \n",
       "22072  Ψίθυροι στη Νύχτα                     NaN   \n",
       "22085  Ψίθυροι στη Νύχτα                     NaN   \n",
       "22488    Χόρεψε Μαζί του                     NaN   \n",
       "22489    Χόρεψε Μαζί του                     NaN   \n",
       "\n",
       "                                          Device Type  Bookmark  \\\n",
       "22797  Android DefaultWidevineL3Tablet Android Tablet  00:12:20   \n",
       "22796  Android DefaultWidevineL3Tablet Android Tablet  01:44:59   \n",
       "22086  Android DefaultWidevineL3Tablet Android Tablet  01:15:14   \n",
       "22087  Android DefaultWidevineL3Tablet Android Tablet  01:10:11   \n",
       "22070  Android DefaultWidevineL3Tablet Android Tablet  01:30:25   \n",
       "22071  Android DefaultWidevineL3Tablet Android Tablet  01:23:50   \n",
       "22072  Android DefaultWidevineL3Tablet Android Tablet  00:20:37   \n",
       "22085  Android DefaultWidevineL3Tablet Android Tablet  01:30:24   \n",
       "22488  Android DefaultWidevineL3Tablet Android Tablet  01:52:24   \n",
       "22489  Android DefaultWidevineL3Tablet Android Tablet  01:43:51   \n",
       "\n",
       "       Latest Bookmark      Country   Type  \n",
       "22797  Not latest view  GR (Greece)  Movie  \n",
       "22796         01:44:59  GR (Greece)  Movie  \n",
       "22086  Not latest view  GR (Greece)  Movie  \n",
       "22087  Not latest view  GR (Greece)  Movie  \n",
       "22070         01:30:25  GR (Greece)  Movie  \n",
       "22071  Not latest view  GR (Greece)  Movie  \n",
       "22072  Not latest view  GR (Greece)  Movie  \n",
       "22085  Not latest view  GR (Greece)  Movie  \n",
       "22488  Not latest view  GR (Greece)  Movie  \n",
       "22489  Not latest view  GR (Greece)  Movie  "
      ]
     },
     "execution_count": 396,
     "metadata": {},
     "output_type": "execute_result"
    }
   ],
   "source": [
    "top_10_movies = df_movie_only.sort_values(by='Title', ascending=False).head(10)\n",
    "top_10_movies"
   ]
  },
  {
   "cell_type": "code",
   "execution_count": 397,
   "id": "0ba44ff5",
   "metadata": {
    "ExecuteTime": {
     "end_time": "2023-12-09T12:20:51.333107Z",
     "start_time": "2023-12-09T12:20:51.309579Z"
    }
   },
   "outputs": [
    {
     "data": {
      "text/html": [
       "<div>\n",
       "<style scoped>\n",
       "    .dataframe tbody tr th:only-of-type {\n",
       "        vertical-align: middle;\n",
       "    }\n",
       "\n",
       "    .dataframe tbody tr th {\n",
       "        vertical-align: top;\n",
       "    }\n",
       "\n",
       "    .dataframe thead th {\n",
       "        text-align: right;\n",
       "    }\n",
       "</style>\n",
       "<table border=\"1\" class=\"dataframe\">\n",
       "  <thead>\n",
       "    <tr style=\"text-align: right;\">\n",
       "      <th></th>\n",
       "      <th>Profile Name</th>\n",
       "      <th>Start Time</th>\n",
       "      <th>Duration</th>\n",
       "      <th>Attributes</th>\n",
       "      <th>Title</th>\n",
       "      <th>Supplemental Video Type</th>\n",
       "      <th>Device Type</th>\n",
       "      <th>Bookmark</th>\n",
       "      <th>Latest Bookmark</th>\n",
       "      <th>Country</th>\n",
       "      <th>Type</th>\n",
       "    </tr>\n",
       "  </thead>\n",
       "  <tbody>\n",
       "    <tr>\n",
       "      <th>0</th>\n",
       "      <td>Alex</td>\n",
       "      <td>2023-11-29 19:03:51+00:00</td>\n",
       "      <td>0 days 01:06:03</td>\n",
       "      <td>NaN</td>\n",
       "      <td>Best. Christmas. Ever!</td>\n",
       "      <td>NaN</td>\n",
       "      <td>Netflix Chrome MAC (Cadmium) HTML 5</td>\n",
       "      <td>01:06:03</td>\n",
       "      <td>01:06:03</td>\n",
       "      <td>GB (United Kingdom)</td>\n",
       "      <td>Movie</td>\n",
       "    </tr>\n",
       "    <tr>\n",
       "      <th>3</th>\n",
       "      <td>Alex</td>\n",
       "      <td>2023-11-29 16:35:12+00:00</td>\n",
       "      <td>0 days 00:00:04</td>\n",
       "      <td>NaN</td>\n",
       "      <td>The Crown</td>\n",
       "      <td>NaN</td>\n",
       "      <td>Netflix Chrome MAC (Cadmium) HTML 5</td>\n",
       "      <td>00:31:14</td>\n",
       "      <td>00:31:14</td>\n",
       "      <td>GB (United Kingdom)</td>\n",
       "      <td>Show</td>\n",
       "    </tr>\n",
       "    <tr>\n",
       "      <th>5</th>\n",
       "      <td>Alex</td>\n",
       "      <td>2023-11-03 02:24:00+00:00</td>\n",
       "      <td>0 days 00:19:45</td>\n",
       "      <td>Autoplayed: user action: None;</td>\n",
       "      <td>Friends</td>\n",
       "      <td>NaN</td>\n",
       "      <td>Safari MAC (Cadmium)</td>\n",
       "      <td>00:19:46</td>\n",
       "      <td>00:19:46</td>\n",
       "      <td>LU (Luxembourg)</td>\n",
       "      <td>Show</td>\n",
       "    </tr>\n",
       "    <tr>\n",
       "      <th>6</th>\n",
       "      <td>Alex</td>\n",
       "      <td>2023-11-03 02:03:19+00:00</td>\n",
       "      <td>0 days 00:20:40</td>\n",
       "      <td>NaN</td>\n",
       "      <td>Friends</td>\n",
       "      <td>NaN</td>\n",
       "      <td>Safari MAC (Cadmium)</td>\n",
       "      <td>00:21:37</td>\n",
       "      <td>00:21:37</td>\n",
       "      <td>LU (Luxembourg)</td>\n",
       "      <td>Show</td>\n",
       "    </tr>\n",
       "    <tr>\n",
       "      <th>7</th>\n",
       "      <td>Alex</td>\n",
       "      <td>2023-11-03 01:41:11+00:00</td>\n",
       "      <td>0 days 00:22:06</td>\n",
       "      <td>NaN</td>\n",
       "      <td>Friends</td>\n",
       "      <td>NaN</td>\n",
       "      <td>Safari MAC (Cadmium)</td>\n",
       "      <td>00:22:07</td>\n",
       "      <td>00:22:07</td>\n",
       "      <td>LU (Luxembourg)</td>\n",
       "      <td>Show</td>\n",
       "    </tr>\n",
       "    <tr>\n",
       "      <th>...</th>\n",
       "      <td>...</td>\n",
       "      <td>...</td>\n",
       "      <td>...</td>\n",
       "      <td>...</td>\n",
       "      <td>...</td>\n",
       "      <td>...</td>\n",
       "      <td>...</td>\n",
       "      <td>...</td>\n",
       "      <td>...</td>\n",
       "      <td>...</td>\n",
       "      <td>...</td>\n",
       "    </tr>\n",
       "    <tr>\n",
       "      <th>7576</th>\n",
       "      <td>Alex</td>\n",
       "      <td>2015-09-30 21:30:47+00:00</td>\n",
       "      <td>0 days 00:01:17</td>\n",
       "      <td>NaN</td>\n",
       "      <td>House, M.D.</td>\n",
       "      <td>NaN</td>\n",
       "      <td>Netflix Chrome MAC (Cadmium) HTML 5</td>\n",
       "      <td>00:01:17</td>\n",
       "      <td>Not latest view</td>\n",
       "      <td>FR (France)</td>\n",
       "      <td>Show</td>\n",
       "    </tr>\n",
       "    <tr>\n",
       "      <th>7577</th>\n",
       "      <td>Alex</td>\n",
       "      <td>2015-09-30 20:17:33+00:00</td>\n",
       "      <td>0 days 00:21:36</td>\n",
       "      <td>NaN</td>\n",
       "      <td>House, M.D.</td>\n",
       "      <td>NaN</td>\n",
       "      <td>Netflix Chrome MAC (Cadmium) HTML 5</td>\n",
       "      <td>00:21:36</td>\n",
       "      <td>00:21:36</td>\n",
       "      <td>FR (France)</td>\n",
       "      <td>Show</td>\n",
       "    </tr>\n",
       "    <tr>\n",
       "      <th>7578</th>\n",
       "      <td>Alex</td>\n",
       "      <td>2015-09-30 19:34:21+00:00</td>\n",
       "      <td>0 days 00:43:05</td>\n",
       "      <td>NaN</td>\n",
       "      <td>House, M.D.</td>\n",
       "      <td>NaN</td>\n",
       "      <td>Netflix Chrome MAC (Cadmium) HTML 5</td>\n",
       "      <td>00:43:05</td>\n",
       "      <td>00:43:05</td>\n",
       "      <td>FR (France)</td>\n",
       "      <td>Show</td>\n",
       "    </tr>\n",
       "    <tr>\n",
       "      <th>7579</th>\n",
       "      <td>Alex</td>\n",
       "      <td>2015-09-30 18:43:13+00:00</td>\n",
       "      <td>0 days 00:43:35</td>\n",
       "      <td>NaN</td>\n",
       "      <td>House, M.D.</td>\n",
       "      <td>NaN</td>\n",
       "      <td>Netflix Chrome MAC (Cadmium) HTML 5</td>\n",
       "      <td>00:43:35</td>\n",
       "      <td>00:43:35</td>\n",
       "      <td>FR (France)</td>\n",
       "      <td>Show</td>\n",
       "    </tr>\n",
       "    <tr>\n",
       "      <th>7580</th>\n",
       "      <td>Alex</td>\n",
       "      <td>2015-09-26 23:00:09+00:00</td>\n",
       "      <td>0 days 00:22:09</td>\n",
       "      <td>NaN</td>\n",
       "      <td>Friends</td>\n",
       "      <td>NaN</td>\n",
       "      <td>Netflix Chrome MAC (Cadmium) HTML 5</td>\n",
       "      <td>00:22:09</td>\n",
       "      <td>Not latest view</td>\n",
       "      <td>US (United States)</td>\n",
       "      <td>Show</td>\n",
       "    </tr>\n",
       "  </tbody>\n",
       "</table>\n",
       "<p>7371 rows × 11 columns</p>\n",
       "</div>"
      ],
      "text/plain": [
       "     Profile Name                Start Time        Duration  \\\n",
       "0            Alex 2023-11-29 19:03:51+00:00 0 days 01:06:03   \n",
       "3            Alex 2023-11-29 16:35:12+00:00 0 days 00:00:04   \n",
       "5            Alex 2023-11-03 02:24:00+00:00 0 days 00:19:45   \n",
       "6            Alex 2023-11-03 02:03:19+00:00 0 days 00:20:40   \n",
       "7            Alex 2023-11-03 01:41:11+00:00 0 days 00:22:06   \n",
       "...           ...                       ...             ...   \n",
       "7576         Alex 2015-09-30 21:30:47+00:00 0 days 00:01:17   \n",
       "7577         Alex 2015-09-30 20:17:33+00:00 0 days 00:21:36   \n",
       "7578         Alex 2015-09-30 19:34:21+00:00 0 days 00:43:05   \n",
       "7579         Alex 2015-09-30 18:43:13+00:00 0 days 00:43:35   \n",
       "7580         Alex 2015-09-26 23:00:09+00:00 0 days 00:22:09   \n",
       "\n",
       "                           Attributes                   Title  \\\n",
       "0                                 NaN  Best. Christmas. Ever!   \n",
       "3                                 NaN               The Crown   \n",
       "5     Autoplayed: user action: None;                  Friends   \n",
       "6                                 NaN                 Friends   \n",
       "7                                 NaN                 Friends   \n",
       "...                               ...                     ...   \n",
       "7576                              NaN             House, M.D.   \n",
       "7577                              NaN             House, M.D.   \n",
       "7578                              NaN             House, M.D.   \n",
       "7579                              NaN             House, M.D.   \n",
       "7580                              NaN                 Friends   \n",
       "\n",
       "     Supplemental Video Type                          Device Type  Bookmark  \\\n",
       "0                        NaN  Netflix Chrome MAC (Cadmium) HTML 5  01:06:03   \n",
       "3                        NaN  Netflix Chrome MAC (Cadmium) HTML 5  00:31:14   \n",
       "5                        NaN                 Safari MAC (Cadmium)  00:19:46   \n",
       "6                        NaN                 Safari MAC (Cadmium)  00:21:37   \n",
       "7                        NaN                 Safari MAC (Cadmium)  00:22:07   \n",
       "...                      ...                                  ...       ...   \n",
       "7576                     NaN  Netflix Chrome MAC (Cadmium) HTML 5  00:01:17   \n",
       "7577                     NaN  Netflix Chrome MAC (Cadmium) HTML 5  00:21:36   \n",
       "7578                     NaN  Netflix Chrome MAC (Cadmium) HTML 5  00:43:05   \n",
       "7579                     NaN  Netflix Chrome MAC (Cadmium) HTML 5  00:43:35   \n",
       "7580                     NaN  Netflix Chrome MAC (Cadmium) HTML 5  00:22:09   \n",
       "\n",
       "      Latest Bookmark              Country   Type  \n",
       "0            01:06:03  GB (United Kingdom)  Movie  \n",
       "3            00:31:14  GB (United Kingdom)   Show  \n",
       "5            00:19:46      LU (Luxembourg)   Show  \n",
       "6            00:21:37      LU (Luxembourg)   Show  \n",
       "7            00:22:07      LU (Luxembourg)   Show  \n",
       "...               ...                  ...    ...  \n",
       "7576  Not latest view          FR (France)   Show  \n",
       "7577         00:21:36          FR (France)   Show  \n",
       "7578         00:43:05          FR (France)   Show  \n",
       "7579         00:43:35          FR (France)   Show  \n",
       "7580  Not latest view   US (United States)   Show  \n",
       "\n",
       "[7371 rows x 11 columns]"
      ]
     },
     "execution_count": 397,
     "metadata": {},
     "output_type": "execute_result"
    }
   ],
   "source": [
    "df_alex = df_filtered[df_filtered['Profile Name']== 'Alex']\n",
    "df_alex"
   ]
  },
  {
   "cell_type": "code",
   "execution_count": 372,
   "id": "545a443d",
   "metadata": {
    "ExecuteTime": {
     "end_time": "2023-12-09T12:08:02.585798Z",
     "start_time": "2023-12-09T12:08:02.080425Z"
    }
   },
   "outputs": [
    {
     "data": {
      "image/png": "[encoded data removed]",
      "text/plain": [
       "<Figure size 1000x600 with 1 Axes>"
      ]
     },
     "metadata": {},
     "output_type": "display_data"
    }
   ],
   "source": [
    "plt.figure(figsize=(10, 6))\n",
    "for Country, group in df_alex.groupby('Country'):\n",
    "    plt.scatter(group['Start Time'], [1] * len(group), label=Country, alpha=0.7)\n",
    "    plt.legend()\n",
    "    plt.title('Movies/Shows watched by date by country')\n",
    "    plt.xlabel('Date')\n",
    "    plt.yticks([])  # Hide y-axis ticks"
   ]
  },
  {
   "cell_type": "code",
   "execution_count": null,
   "id": "feb8bb04",
   "metadata": {},
   "outputs": [],
   "source": []
  }
 ],
 "metadata": {
  "kernelspec": {
   "display_name": "Python 3 (ipykernel)",
   "language": "python",
   "name": "python3"
  },
  "language_info": {
   "codemirror_mode": {
    "name": "ipython",
    "version": 3
   },
   "file_extension": ".py",
   "mimetype": "text/x-python",
   "name": "python",
   "nbconvert_exporter": "python",
   "pygments_lexer": "ipython3",
   "version": "3.11.5"
  }
 },
 "nbformat": 4,
 "nbformat_minor": 5
}
